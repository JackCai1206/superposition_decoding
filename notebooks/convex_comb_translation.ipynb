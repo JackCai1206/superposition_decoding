{
 "cells": [
  {
   "cell_type": "code",
   "execution_count": 1,
   "metadata": {},
   "outputs": [
    {
     "name": "stderr",
     "output_type": "stream",
     "text": [
      "Special tokens have been added in the vocabulary, make sure the associated word embeddings are fine-tuned or trained.\n",
      "WARNING:root:float16 models may not work on CPU. Consider using a GPU or bfloat16.\n"
     ]
    },
    {
     "data": {
      "application/vnd.jupyter.widget-view+json": {
       "model_id": "f6d8af344c0b479e84fb8b3f69d4b06b",
       "version_major": 2,
       "version_minor": 0
      },
      "text/plain": [
       "Loading checkpoint shards:   0%|          | 0/4 [00:00<?, ?it/s]"
      ]
     },
     "metadata": {},
     "output_type": "display_data"
    },
    {
     "name": "stderr",
     "output_type": "stream",
     "text": [
      "Special tokens have been added in the vocabulary, make sure the associated word embeddings are fine-tuned or trained.\n"
     ]
    },
    {
     "name": "stdout",
     "output_type": "stream",
     "text": [
      "Loaded pretrained model meta-llama/Meta-Llama-3-8B into HookedTransformer\n"
     ]
    }
   ],
   "source": [
    "import torch\n",
    "from transformer_lens import HookedTransformer\n",
    "from transformers import AutoTokenizer\n",
    "\n",
    "# Check if a GPU is available and set the device\n",
    "device = torch.device(\"cuda:1\" if torch.cuda.is_available() else \"cpu\")\n",
    "\n",
    "# Specify the model ID\n",
    "model_id = \"meta-llama/Meta-Llama-3-8B\"\n",
    "\n",
    "# Load the tokenizer from the Hugging Face library\n",
    "tokenizer = AutoTokenizer.from_pretrained(model_id)\n",
    "\n",
    "# Load the model with TransformerLens, specifying the torch_dtype as torch.float16 to reduce memory usage\n",
    "model = HookedTransformer.from_pretrained_no_processing(model_id, torch_dtype=torch.float16, device_map=device)\n"
   ]
  },
  {
   "cell_type": "code",
   "execution_count": 5,
   "metadata": {},
   "outputs": [
    {
     "data": {
      "application/vnd.jupyter.widget-view+json": {
       "model_id": "0fc380e9fd434ea6ae9d17873c1fce30",
       "version_major": 2,
       "version_minor": 0
      },
      "text/plain": [
       "  0%|          | 0/10 [00:00<?, ?it/s]"
      ]
     },
     "metadata": {},
     "output_type": "display_data"
    },
    {
     "name": "stdout",
     "output_type": "stream",
     "text": [
      "----------------------------------------\n",
      "Merge at layer 0\n",
      "top 5 predictions:\n",
      "QuestionQuestion       \"     had       \"       a      un       a  little       \" Spanish       .       \"     had       a  little       .Translate     had       a  little     .\\n    Mary\n",
      "    0.31    0.17    0.22    0.11    0.36    0.49    0.18    0.08    0.12    0.14    0.18    0.23    0.33    0.80    0.91    0.95    0.41    0.09    0.72    0.76    0.75    0.42    0.54\n",
      "     def     def Translate    land    Mary     two      un  sister       a      in  French     .\\n    Mary     had      al    lamb     .\\n    Mary     had      al    lamb       .     Mar\n",
      "    0.10    0.07    0.08    0.08    0.06    0.07    0.17    0.03    0.08    0.06    0.13    0.08    0.12    0.03    0.02    0.01    0.13    0.06    0.10    0.07    0.19    0.23    0.03\n",
      "       #       #      \\n      's     had  little       a     had       ,       ( English       ,            Mary       a     lit       ,       \"    Mary      al    litt       ,       \"\n",
      "    0.06    0.06    0.06    0.04    0.05    0.01    0.06    0.03    0.07    0.03    0.11    0.07    0.03    0.02    0.01    0.01    0.06    0.04    0.02    0.07    0.00    0.06    0.03\n",
      "     The     TheTranslate      am     and       \"     une       c       a      to       \"     and    Mary   tenía  little    baby    lamb     The     Had       a     lit      \\nTranslate\n",
      "    0.03    0.03    0.06    0.04    0.05    0.01    0.05    0.03    0.05    0.02    0.08    0.05    0.01    0.01    0.01    0.00    0.03    0.04    0.01    0.02    0.00    0.04    0.02\n",
      "  import  import      is     and       ,      am     had      un       .    Mary  German       \" Translate       (      al    litt  little    What    Mary      ab    baby       /       M\n",
      "    0.02    0.02    0.03    0.03    0.03    0.01    0.04    0.03    0.05    0.02    0.06    0.02    0.01    0.01    0.01    0.00    0.03    0.02    0.01    0.01    0.00    0.02    0.02\n"
     ]
    },
    {
     "data": {
      "application/vnd.jupyter.widget-view+json": {
       "model_id": "d5b1afbe9e9a4cfc8c3adc552de288f2",
       "version_major": 2,
       "version_minor": 0
      },
      "text/plain": [
       "  0%|          | 0/10 [00:00<?, ?it/s]"
      ]
     },
     "metadata": {},
     "output_type": "display_data"
    },
    {
     "name": "stdout",
     "output_type": "stream",
     "text": [
      "----------------------------------------\n",
      "Merge at layer 1\n",
      "top 5 predictions:\n",
      "QuestionQuestion     The       P       \"      un     son    lamb       \"      is Spanish      \\n       \"   tenía   tenía      un       c      ve      ja     .\\n       \"  little    lamb\n",
      "    0.31    0.24    0.03    0.12    0.45    0.27    0.02    0.94    0.24    0.16    0.18    0.28    0.31    0.47    0.59    0.91    0.91    0.97    0.78    0.34    0.17    0.12    0.32\n",
      "     def     def       I       \"     \"\\n     una    baby    Lamb       ,      in English     .\\n   María   María      tu     una       o   order       o       .     The  Little    Lamb\n",
      "    0.10    0.09    0.01    0.05    0.06    0.13    0.02    0.01    0.11    0.08    0.12    0.15    0.06    0.10    0.15    0.03    0.02    0.02    0.08    0.22    0.05    0.04    0.17\n",
      "       #       #     the     Had       ,       a       c     lam       .       (  French       .    Mary      tu      un       a     car     vis      jo      \\n    Mary    lamb     boy\n",
      "    0.06    0.07    0.01    0.05    0.02    0.08    0.02    0.00    0.05    0.07    0.05    0.11    0.05    0.09    0.14    0.01    0.02    0.00    0.07    0.08    0.03    0.04    0.07\n",
      "     The     The       a    land      \",     her  little     boy     \"\\n       -  German     ?\\n   Maria     had     una       c   peque    tero       o   pequeTranslate    Mary     Boy\n",
      "    0.03    0.03    0.01    0.05    0.01    0.02    0.02    0.00    0.05    0.06    0.05    0.06    0.03    0.08    0.02    0.01    0.02    0.00    0.01    0.05    0.03    0.02    0.06\n",
      "  import       A      to     had     Mag             her       \"      .\"       \"   Latin       ,      La   había   había       o     cab     vin       l       (       I    Lamb    girl\n",
      "    0.02    0.02    0.01    0.05    0.01    0.02    0.02    0.00    0.04    0.03    0.04    0.05    0.02    0.04    0.02    0.01    0.01    0.00    0.00    0.03    0.02    0.02    0.03\n"
     ]
    },
    {
     "data": {
      "application/vnd.jupyter.widget-view+json": {
       "model_id": "0f1db7b85e7542ee9d72c7ec5bc91e06",
       "version_major": 2,
       "version_minor": 0
      },
      "text/plain": [
       "  0%|          | 0/10 [00:00<?, ?it/s]"
      ]
     },
     "metadata": {},
     "output_type": "display_data"
    },
    {
     "name": "stdout",
     "output_type": "stream",
     "text": [
      "----------------------------------------\n",
      "Merge at layer 2\n",
      "top 5 predictions:\n",
      "Question     def      to       \"       \"      un   order    lamb       \"    into English       .    Mary   tenía      un       c       ñ       o     .\\n    Mary<|begin_of_text|>     ://      \\n\n",
      "    0.31    0.29    0.01    0.12    0.17    0.59    0.09    0.30    0.36    0.28    0.18    0.39    0.25    0.58    0.61    0.86    0.10    0.15    0.47    0.11    0.98    0.22    0.15\n",
      "     defQuestion      to    land     \"\\n     una     her       c      .\"      in Spanish      \\n       \"     had     una   peque     cho    lamb       .<|end_of_text|>  \\u2009  .swing    Mary\n",
      "    0.10    0.16    0.01    0.06    0.06    0.37    0.08    0.08    0.11    0.10    0.16    0.36    0.24    0.12    0.33    0.05    0.09    0.09    0.24    0.10    0.00    0.02    0.09\n",
      "       #       #      in       P    Jane     dos     per       \"       .      to  French     .\\n   María      tu       a       o      ño       c      \\n       \"       ् Angeles    Mary\n",
      "    0.06    0.07    0.00    0.05    0.04    0.00    0.07    0.06    0.06    0.09    0.07    0.08    0.04    0.06    0.04    0.03    0.05    0.07    0.11    0.07    0.00    0.02    0.06\n",
      "     The  import    into     Had       ,     her     erd       l       ,    from  German    \\n\\n           María       c     cab   ...\\n       o       (       (       ْ  .Forms    nbsp\n",
      "    0.03    0.03    0.00    0.05    0.03    0.00    0.04    0.04    0.06    0.07    0.04    0.02    0.02    0.04    0.00    0.01    0.03    0.06    0.01    0.03    0.00    0.01    0.03\n",
      "  import     The       f     had     had       o    otor       o     \"\\n       (  Arabic       :       (    Mary      \\n     car       .       .     .\\n     The             php<|end_of_text|>\n",
      "    0.02    0.02    0.00    0.04    0.03    0.00    0.02    0.02    0.04    0.04    0.04    0.02    0.02    0.03    0.00    0.01    0.03    0.04    0.01    0.03    0.00    0.01    0.02\n"
     ]
    },
    {
     "data": {
      "application/vnd.jupyter.widget-view+json": {
       "model_id": "6801fe1f2c264cccb8e640c8bab29101",
       "version_major": 2,
       "version_minor": 0
      },
      "text/plain": [
       "  0%|          | 0/10 [00:00<?, ?it/s]"
      ]
     },
     "metadata": {},
     "output_type": "display_data"
    },
    {
     "name": "stdout",
     "output_type": "stream",
     "text": [
      "----------------------------------------\n",
      "Merge at layer 3\n",
      "top 5 predictions:\n",
      "Question     def       \"       \"       \"      un   order    lamb       \"      in English      \\n       \"     had      un       c   order     .\\nTranslate    Mary     had      un       c\n",
      "    0.31    0.29    0.05    0.18    0.19    0.37    0.35    0.63    0.44    0.26    0.55    0.46    0.33    0.44    0.78    0.74    0.14    0.59    0.11    0.28    0.39    0.76    0.34\n",
      "     defQuestion      to    land     \"\\n     una      eb    baby      .\"    into Spanish     :\\n    Mary   tenía     una   peque     ano       .       \"       \"   tenía     una     cab\n",
      "    0.10    0.16    0.01    0.13    0.07    0.27    0.08    0.03    0.05    0.17    0.08    0.14    0.26    0.39    0.18    0.10    0.06    0.12    0.10    0.19    0.05    0.09    0.09\n",
      "       #       #    from       (    Jane    tres     uch      ch     \"\\n      to  French     .\\n   María      tu       a       o       c      \\n    Mary    Mary    Mary       c   peque\n",
      "    0.06    0.07    0.01    0.02    0.04    0.05    0.07    0.02    0.05    0.15    0.03    0.13    0.04    0.03    0.02    0.06    0.05    0.08    0.09    0.04    0.03    0.03    0.05\n",
      "     The  import      in      am     Ann     dos    ator       l       /    from    your       .   Maria   había       c     cab     cho   .\\n\\n     The       I      's       a    casa\n",
      "    0.03    0.03    0.01    0.02    0.02    0.04    0.03    0.02    0.04    0.06    0.02    0.06    0.02    0.02    0.00    0.02    0.04    0.02    0.03    0.01    0.03    0.03    0.04\n",
      "  import     The     the       P       ,     her     ama    Lamb       ,       (  Arabic       :             Had       o     car       ñ       (    What       \"      tu     dos       o\n",
      "    0.02    0.02    0.01    0.02    0.02    0.02    0.03    0.01    0.03    0.03    0.02    0.03    0.02    0.01    0.00    0.01    0.03    0.02    0.03    0.01    0.03    0.01    0.04\n"
     ]
    },
    {
     "data": {
      "application/vnd.jupyter.widget-view+json": {
       "model_id": "2b4056fc7c3e4e609e523c1aa22c3e98",
       "version_major": 2,
       "version_minor": 0
      },
      "text/plain": [
       "  0%|          | 0/10 [00:00<?, ?it/s]"
      ]
     },
     "metadata": {},
     "output_type": "display_data"
    },
    {
     "name": "stdout",
     "output_type": "stream",
     "text": [
      "----------------------------------------\n",
      "Merge at layer 4\n",
      "top 5 predictions:\n",
      "Question     def       :    land       \"      un   order    lamb       \"    into English      \\n       \"     had      un       c   order       o     .\\nTranslate    Mary     had       a\n",
      "    0.31    0.29    0.09    0.24    0.06    0.55    0.69    0.54    0.32    0.20    0.20    0.28    0.34    0.63    0.54    0.75    1.00    0.80    0.45    0.16    0.29    0.79    0.92\n",
      "     defQuestion       \"       P      un     una      eb     lam      .\"      to Spanish     .\\n    Mary   tenía     una       o   order     ito       .       \"       \"     Had       A\n",
      "    0.10    0.16    0.02    0.05    0.04    0.25    0.04    0.02    0.07    0.18    0.12    0.15    0.29    0.07    0.41    0.05    0.00    0.09    0.19    0.11    0.15    0.02    0.05\n",
      "       #       #      to      am       ,     her    anto   llama     \"\\n      in  French       .   María      tu       a   peque   encer       a      \\n    Mary    Mary    Mary  Little\n",
      "    0.06    0.07    0.02    0.02    0.04    0.03    0.03    0.02    0.07    0.11    0.05    0.11    0.04    0.06    0.03    0.04    0.00    0.02    0.12    0.04    0.05    0.02    0.01\n",
      "     The  import     the       \"     una       o     uch      ll       ,    from     the       ,   Maria     Had       o     cabordering     ita       (     The       I      's  little\n",
      "    0.03    0.03    0.01    0.02    0.04    0.02    0.03    0.02    0.04    0.09    0.04    0.05    0.02    0.03    0.00    0.03    0.00    0.02    0.03    0.03    0.02    0.01    0.01\n",
      "  import     The       a       ,     \"\\n     per     ero       l       .       (  German       (           había       (     car      ve       o       /     How     The       ,      an\n",
      "    0.02    0.02    0.01    0.02    0.04    0.01    0.01    0.02    0.04    0.04    0.03    0.04    0.01    0.02    0.00    0.03    0.00    0.01    0.02    0.03    0.01    0.01    0.00\n"
     ]
    },
    {
     "data": {
      "application/vnd.jupyter.widget-view+json": {
       "model_id": "09a7c816ee3d4a54bdd264d85a6027f2",
       "version_major": 2,
       "version_minor": 0
      },
      "text/plain": [
       "  0%|          | 0/10 [00:00<?, ?it/s]"
      ]
     },
     "metadata": {},
     "output_type": "display_data"
    },
    {
     "name": "stdout",
     "output_type": "stream",
     "text": [
      "----------------------------------------\n",
      "Merge at layer 5\n",
      "top 5 predictions:\n",
      "Question     def       \"    land       \"     her   order    lamb       \"    into English      \\n       \"   tenía      un       c   order       o     .\\n    Mary     had     had       a\n",
      "    0.31    0.29    0.02    0.33    0.11    0.18    0.21    0.37    0.26    0.23    0.26    0.38    0.25    0.51    0.54    0.85    0.99    0.56    0.45    0.21    0.66    0.97    0.85\n",
      "     defQuestion       :       \"     \"\\n     per      ip       l     \"\\n      to Spanish     .\\n    Mary     had     una     car     ach    illo      \\n       \"    Mary       a  little\n",
      "    0.10    0.16    0.01    0.05    0.07    0.10    0.13    0.03    0.09    0.15    0.17    0.14    0.20    0.26    0.44    0.05    0.00    0.27    0.20    0.08    0.06    0.01    0.07\n",
      "       #       #      to     \"\\n     una      un     erd      ch      .\"      in  French       .   María      tu       a   peque     uch     ito       . English   María     Had    lamb\n",
      "    0.06    0.07    0.01    0.03    0.06    0.04    0.07    0.03    0.07    0.13    0.05    0.07    0.08    0.09    0.01    0.03    0.00    0.14    0.13    0.06    0.05    0.00    0.01\n",
      "     The  import     the    Jane      un    hijo    anto     lam       ,    from       \"     :\\n   Maria   había     uno     cab     ill       a       (Translate       ,       (     had\n",
      "    0.03    0.03    0.01    0.02    0.05    0.03    0.05    0.02    0.07    0.06    0.03    0.06    0.03    0.03    0.00    0.01    0.00    0.01    0.02    0.05    0.01    0.00    0.01\n",
      "  import     The      in      am       a     una    otor       o       .      is  German       ,       (   tiene       (     bor    anto     ero     .\\n     The    mary          Little\n",
      "    0.02    0.02    0.00    0.02    0.03    0.02    0.03    0.02    0.05    0.04    0.03    0.04    0.02    0.01    0.00    0.01    0.00    0.01    0.01    0.03    0.01    0.00    0.00\n"
     ]
    },
    {
     "data": {
      "application/vnd.jupyter.widget-view+json": {
       "model_id": "18d6cf936d75416594d3e06b9559d9fc",
       "version_major": 2,
       "version_minor": 0
      },
      "text/plain": [
       "  0%|          | 0/10 [00:00<?, ?it/s]"
      ]
     },
     "metadata": {},
     "output_type": "display_data"
    },
    {
     "name": "stdout",
     "output_type": "stream",
     "text": [
      "----------------------------------------\n",
      "Merge at layer 6\n",
      "top 5 predictions:\n",
      "Question     def       :    land       \"      un   order       o       \"    into English      \\n    Mary   tenía      un       c   order     uit     .\\n    Mary       :    Mary     had\n",
      "    0.31    0.29    0.02    0.42    0.15    0.13    0.26    0.35    0.34    0.25    0.38    0.51    0.26    0.78    0.61    0.73    0.77    0.30    0.40    0.19    0.29    0.70    0.57\n",
      "     defQuestion       \"       \"     \"\\n     her    anto    lamb      .\"      to Spanish     :\\n   María     had     una   peque      ag     ito      \\n English Translation English       :\n",
      "    0.10    0.16    0.01    0.02    0.04    0.08    0.09    0.18    0.07    0.18    0.18    0.10    0.15    0.08    0.37    0.06    0.02    0.27    0.23    0.14    0.08    0.05    0.11\n",
      "       #       #     the      am     una     una      ip       o       ,      in  French     .\\n       \"      tu       a     cab     ano    illo       .Translate translation   María      \\n\n",
      "    0.06    0.07    0.01    0.01    0.03    0.08    0.07    0.03    0.07    0.13    0.04    0.09    0.12    0.05    0.01    0.06    0.02    0.08    0.16    0.05    0.07    0.04    0.04\n",
      "     The  import      to      is      un    hijo     erd       l       .      is  German       :   Maria   había       o       o    ucha     ote       (       \"      to Spanish Translation\n",
      "    0.03    0.03    0.01    0.01    0.02    0.04    0.05    0.02    0.05    0.04    0.03    0.07    0.06    0.02    0.00    0.05    0.01    0.07    0.02    0.04    0.07    0.03    0.04\n",
      "  import     The       a      's       ,     per      eb       l     que    from  Arabic       (       (     ten      su     car   order      os       /Previous Spanish       \"    Mary\n",
      "    0.02    0.02    0.01    0.01    0.02    0.03    0.03    0.02    0.04    0.04    0.02    0.04    0.02    0.01    0.00    0.02    0.00    0.05    0.01    0.03    0.06    0.02    0.03\n"
     ]
    },
    {
     "data": {
      "application/vnd.jupyter.widget-view+json": {
       "model_id": "371684967af14fb380bfd49082d02a32",
       "version_major": 2,
       "version_minor": 0
      },
      "text/plain": [
       "  0%|          | 0/10 [00:00<?, ?it/s]"
      ]
     },
     "metadata": {},
     "output_type": "display_data"
    },
    {
     "name": "stdout",
     "output_type": "stream",
     "text": [
      "----------------------------------------\n",
      "Merge at layer 7\n",
      "top 5 predictions:\n",
      "Question     def     the    land     \"\\n      un    anto    lamb       \"      in Spanish      \\n    Mary   tenía      un       c      ri      at     ito     .\\n    Mary     had       a\n",
      "    0.31    0.29    0.01    0.30    0.20    0.15    0.08    0.78    0.36    0.45    0.28    0.77    0.19    0.86    0.82    0.68    0.33    0.31    0.39    0.39    0.11    0.68    0.85\n",
      "     defQuestion     and      am       \"     una   uchar     lam     \"\\n    into English       :   María      tu     una     cab     rit      ad     ita      \\n     How     did     the\n",
      "    0.10    0.16    0.01    0.02    0.12    0.09    0.04    0.02    0.15    0.16    0.21    0.05    0.17    0.05    0.16    0.05    0.15    0.08    0.21    0.26    0.09    0.02    0.01\n",
      "       #       #      to      's      es     her     azo   llama       ,      to  French     .\\n       \"     had       a   peque    rito     ito     ina       . English    Mary      an\n",
      "    0.06    0.07    0.01    0.01    0.02    0.07    0.04    0.02    0.14    0.06    0.05    0.04    0.12    0.02    0.00    0.04    0.06    0.06    0.09    0.12    0.07    0.02    0.01\n",
      "     The  import      by      is       y    hijo      eb       l       .      en  German       (   Maria     ten       o     car    init     ata      ín       (     Now       ,    this\n",
      "    0.03    0.03    0.01    0.01    0.02    0.03    0.04    0.01    0.03    0.03    0.04    0.02    0.04    0.02    0.00    0.03    0.04    0.05    0.07    0.02    0.07    0.02    0.01\n",
      "  import     The      in       \"       ,     per   order      ll     que      is   Greek    \\n\\n Spanish   había       c       o     ach      ón    illo       /    Mean      's    Mary\n",
      "    0.02    0.02    0.01    0.01    0.02    0.01    0.03    0.01    0.03    0.02    0.02    0.02    0.02    0.01    0.00    0.02    0.04    0.04    0.04    0.02    0.06    0.01    0.01\n"
     ]
    },
    {
     "data": {
      "application/vnd.jupyter.widget-view+json": {
       "model_id": "85000c3d207745f5baec416b9e3c7010",
       "version_major": 2,
       "version_minor": 0
      },
      "text/plain": [
       "  0%|          | 0/10 [00:00<?, ?it/s]"
      ]
     },
     "metadata": {},
     "output_type": "display_data"
    },
    {
     "name": "stdout",
     "output_type": "stream",
     "text": [
      "----------------------------------------\n",
      "Merge at layer 8\n",
      "top 5 predictions:\n",
      "Question     def      in    land       \"      un   order    lamb       \"      in Spanish      \\n   María   tenía      un       c      ri      at     ito     .\\nTranslate    Mary     had\n",
      "    0.31    0.29    0.01    0.43    0.13    0.17    0.23    0.52    0.55    0.52    0.23    0.81    0.30    0.92    0.86    0.72    0.39    0.47    0.25    0.56    0.17    0.56    0.54\n",
      "     defQuestion       a      am     \"\\n     una    anto   llama       ,      to English       :    Mary      tu     una     cab     rit      ad     ina       .    Mary       \"     had\n",
      "    0.10    0.16    0.01    0.02    0.05    0.09    0.08    0.03    0.09    0.21    0.14    0.06    0.15    0.02    0.13    0.05    0.11    0.05    0.17    0.12    0.11    0.10    0.07\n",
      "       #       #     the      's       ,     her      eb       l      .\"    into  French     .\\n       \"     ten       a   peque    init     ito     ita      \\n       \"    into    Mary\n",
      "    0.06    0.07    0.01    0.02    0.04    0.06    0.07    0.03    0.04    0.11    0.06    0.04    0.08    0.02    0.00    0.04    0.07    0.05    0.14    0.11    0.09    0.03    0.07\n",
      "     The  import      to       ,      es    hijo      ip      ll       /      on  German       (   Maria   había       o       o     ach    atur      ín       / English   María      tu\n",
      "    0.03    0.03    0.01    0.01    0.04    0.04    0.05    0.02    0.03    0.04    0.05    0.03    0.06    0.01    0.00    0.03    0.05    0.04    0.10    0.02    0.03    0.03    0.03\n",
      "  import     The       ( borough       y    tres     uch      ch       .      by   Greek       .     Mar     had      en     car    rito     ata    illo   .\\n\\n     The Spanish    Mary\n",
      "    0.02    0.02    0.00    0.01    0.03    0.02    0.03    0.02    0.03    0.02    0.04    0.01    0.04    0.01    0.00    0.02    0.04    0.04    0.09    0.02    0.03    0.02    0.03\n"
     ]
    },
    {
     "data": {
      "application/vnd.jupyter.widget-view+json": {
       "model_id": "6ca59233d6794dc19a44d6cab5f17d7a",
       "version_major": 2,
       "version_minor": 0
      },
      "text/plain": [
       "  0%|          | 0/10 [00:00<?, ?it/s]"
      ]
     },
     "metadata": {},
     "output_type": "display_data"
    },
    {
     "name": "stdout",
     "output_type": "stream",
     "text": [
      "----------------------------------------\n",
      "Merge at layer 9\n",
      "top 5 predictions:\n",
      "Question     def       -    land       \"      un  little    lamb       \"      in Spanish      \\n    Mary   tenía      un       c   order     ito     .\\n      Do      to     the    that\n",
      "    0.31    0.29    0.01    0.35    0.13    0.17    0.07    0.86    0.52    0.31    0.23    0.74    0.37    0.92    0.79    0.69    1.00    0.68    0.58    0.17    0.75    0.19    0.26\n",
      "     defQuestion     the      's       ,     una    anto     lam       ,      to English       :   María     ten     una       o   encer       o      \\n     How      is      it possible\n",
      "    0.10    0.16    0.00    0.02    0.06    0.09    0.05    0.01    0.10    0.25    0.10    0.06    0.23    0.02    0.18    0.06    0.00    0.17    0.12    0.15    0.04    0.19    0.08\n",
      "       #       #       a       ,     Mag     her      uy   llama      .\"    into  French     .\\n       \"      tu       a     cab   order    illo       . English      do       \"    done\n",
      "    0.06    0.07    0.00    0.02    0.03    0.06    0.03    0.01    0.06    0.14    0.06    0.05    0.10    0.02    0.01    0.06    0.00    0.07    0.10    0.09    0.04    0.16    0.04\n",
      "     The  import      in      am     \"\\n    hijo     ero     boy       .    from  German       (   Maria     had      ía   peque     ern     ita       ;    Mary     did    Mary translated\n",
      "    0.03    0.03    0.00    0.01    0.03    0.04    0.03    0.01    0.04    0.04    0.05    0.03    0.06    0.01    0.00    0.04    0.00    0.06    0.02    0.07    0.04    0.04    0.03\n",
      "  import     The     the borough     had       a    otor    baby       /     and   Greek    \\n\\n     Mar   había      la     car      uy       a   .\\n\\n    Mean     can translate  useful\n",
      "    0.02    0.03    0.00    0.01    0.02    0.03    0.03    0.00    0.03    0.03    0.04    0.02    0.03    0.01    0.00    0.02    0.00    0.01    0.02    0.05    0.01    0.04    0.02\n"
     ]
    },
    {
     "data": {
      "application/vnd.jupyter.widget-view+json": {
       "model_id": "22e22ba173ad4ee7bc742367f564964c",
       "version_major": 2,
       "version_minor": 0
      },
      "text/plain": [
       "  0%|          | 0/10 [00:00<?, ?it/s]"
      ]
     },
     "metadata": {},
     "output_type": "display_data"
    },
    {
     "name": "stdout",
     "output_type": "stream",
     "text": [
      "----------------------------------------\n",
      "Merge at layer 10\n",
      "top 5 predictions:\n",
      "Question     def      in    land       \"      un    anto    lamb       \"      in Spanish      \\n    Mary   tenía      un       c   order       j     ito     .\\n    Mary     had     had\n",
      "    0.31    0.29    0.01    0.40    0.08    0.17    0.06    0.88    0.57    0.29    0.20    0.34    0.35    0.93    0.82    0.66    0.95    0.79    0.37    0.55    0.09    0.63    0.86\n",
      "     defQuestion       a       ,       ,     una  little     boy       ,    into English     :\\n   María     ten     una       o      ve      ja     ita       .       \"    Mary       a\n",
      "    0.10    0.16    0.00    0.02    0.07    0.07    0.06    0.01    0.07    0.21    0.15    0.14    0.20    0.02    0.15    0.08    0.02    0.16    0.27    0.15    0.08    0.06    0.07\n",
      "       #       #     the      's     Mag     her     ero     lam      .\"      to  French       :       \"     had       a     cab    read       c    illo      \\nTranslate   tenía     ten\n",
      "    0.06    0.07    0.00    0.02    0.03    0.06    0.05    0.01    0.05    0.16    0.05    0.13    0.14    0.01    0.00    0.08    0.00    0.03    0.18    0.11    0.07    0.04    0.02\n",
      "     The  import      in borough     \"\\n    hijo      uy   llama       .    from  German     .\\n   Maria      tu      ía   peque   encer     jon     .\\n   .\\n\\n Spanish   tiene      un\n",
      "    0.03    0.03    0.00    0.02    0.02    0.03    0.04    0.01    0.03    0.05    0.04    0.09    0.05    0.01    0.00    0.05    0.00    0.00    0.05    0.03    0.05    0.04    0.01\n",
      "  import     The      to      am       y       a    otor    baby       /      is   Greek       .     Mar   había       o     car       '     jet       .     .\\n English     ten     was\n",
      "    0.02    0.03    0.00    0.01    0.02    0.03    0.03    0.00    0.02    0.02    0.02    0.07    0.03    0.01    0.00    0.01    0.00    0.00    0.02    0.02    0.04    0.03    0.00\n"
     ]
    },
    {
     "data": {
      "application/vnd.jupyter.widget-view+json": {
       "model_id": "1c76d7a10a0d4ce1bc1bdc8bbe92b1ee",
       "version_major": 2,
       "version_minor": 0
      },
      "text/plain": [
       "  0%|          | 0/10 [00:00<?, ?it/s]"
      ]
     },
     "metadata": {},
     "output_type": "display_data"
    },
    {
     "name": "stdout",
     "output_type": "stream",
     "text": [
      "----------------------------------------\n",
      "Merge at layer 11\n",
      "top 5 predictions:\n",
      "Question     def     the    land       \"      un   order    lamb       \"      to Spanish      \\n    Mary   tenía      un  little    lamb     .\\n     How Translation Spanish Dictionary       (\n",
      "    0.31    0.29    0.00    0.38    0.23    0.15    0.10    0.59    0.59    0.24    0.21    0.45    0.49    0.86    0.52    0.81    0.68    0.46    0.13    0.35    0.77    0.54    0.45\n",
      "     defQuestion       a borough       ,     una      eb       o       ,      in English       :       \"     had       a       c   sheep      \\n English      to English       . Meaning\n",
      "    0.10    0.16    0.00    0.02    0.05    0.07    0.07    0.04    0.06    0.22    0.13    0.18    0.14    0.06    0.34    0.04    0.04    0.15    0.10    0.08    0.10    0.13    0.12\n",
      "       #       #     the      's     Mag     her     ero     lam     que    into  French     :\\n   María      tu     una   small    baby       .    Mary   Title   Greek Meaning Translate\n",
      "    0.06    0.07    0.00    0.02    0.02    0.07    0.07    0.02    0.04    0.20    0.05    0.09    0.11    0.02    0.12    0.02    0.03    0.14    0.09    0.07    0.02    0.11    0.12\n",
      "     The  import      in      am     \"\\n    hijo    anto     ram      .\"    from  German     .\\n   Maria     ten  little   peque  little     .\\n     Now  Target  German   Gloss       \"\n",
      "    0.03    0.03    0.00    0.02    0.02    0.06    0.06    0.01    0.03    0.07    0.04    0.06    0.05    0.01    0.00    0.02    0.02    0.03    0.09    0.05    0.01    0.05    0.04\n",
      "  import     The       f       ,      de      ni      uy   llama       /      is Swedish       (     Mar   había       o    lamb     one       (Previous       : Ukrainian    from       “\n",
      "    0.02    0.03    0.00    0.02    0.02    0.02    0.05    0.01    0.03    0.03    0.03    0.04    0.02    0.01    0.00    0.01    0.01    0.02    0.06    0.05    0.01    0.02    0.04\n"
     ]
    },
    {
     "data": {
      "application/vnd.jupyter.widget-view+json": {
       "model_id": "50200c5d0db64337949ab65c79cc50a4",
       "version_major": 2,
       "version_minor": 0
      },
      "text/plain": [
       "  0%|          | 0/10 [00:00<?, ?it/s]"
      ]
     },
     "metadata": {},
     "output_type": "display_data"
    },
    {
     "name": "stdout",
     "output_type": "stream",
     "text": [
      "----------------------------------------\n",
      "Merge at layer 12\n",
      "top 5 predictions:\n",
      "Question     def     the    land       \"       a  little    lamb       \"    into Spanish      \\n    Mary   tenía       a       c   order     .\\n     How Translation      of     had       a\n",
      "    0.31    0.29    0.01    0.33    0.10    0.13    0.27    0.87    0.45    0.32    0.19    0.35    0.47    0.92    0.54    0.41    0.93    0.46    0.13    0.70    0.28    0.88    0.78\n",
      "     defQuestion       a      's       ,      un    baby     boy       ,      to English       :   María     had      un  little    anto      \\n English       :    Mary     Had       A\n",
      "    0.10    0.16    0.01    0.02    0.06    0.09    0.10    0.01    0.08    0.28    0.12    0.31    0.17    0.02    0.37    0.14    0.01    0.17    0.12    0.08    0.21    0.02    0.18\n",
      "       #       #    from borough     \"\\n     una       d     lam      .\"      in  French     :\\n       \"     ten     una   peque      uy      de    Mary  Target       :    Mary      \\n\n",
      "    0.06    0.07    0.01    0.02    0.05    0.06    0.02    0.01    0.08    0.16    0.05    0.08    0.11    0.01    0.07    0.09    0.01    0.06    0.10    0.02    0.13    0.01    0.01\n",
      "     The  import      to       ,     Mag     son     ero   llama     \"\\n    from  German     .\\n   Maria      tu      an      un     uch       .     Now   Title       \"       ,  Little\n",
      "    0.03    0.03    0.01    0.02    0.02    0.03    0.01    0.01    0.04    0.04    0.04    0.06    0.05    0.01    0.00    0.06    0.00    0.06    0.06    0.02    0.06    0.01    0.00\n",
      "  import     The      in      am      am     her      uy     ram       .     and   Greek       (     Mar   había  little     cab   order       (       \"      to     for       :    Mary\n",
      "    0.02    0.03    0.00    0.02    0.02    0.03    0.01    0.01    0.04    0.02    0.03    0.04    0.02    0.01    0.00    0.04    0.00    0.02    0.05    0.01    0.03    0.01    0.00\n"
     ]
    },
    {
     "data": {
      "application/vnd.jupyter.widget-view+json": {
       "model_id": "01988560acb041458376bb61c6c05ffe",
       "version_major": 2,
       "version_minor": 0
      },
      "text/plain": [
       "  0%|          | 0/10 [00:00<?, ?it/s]"
      ]
     },
     "metadata": {},
     "output_type": "display_data"
    },
    {
     "name": "stdout",
     "output_type": "stream",
     "text": [
      "----------------------------------------\n",
      "Merge at layer 13\n",
      "top 5 predictions:\n",
      "Question     def      in    land       \"      un      eb    lamb       \"    into Spanish      \\n    Mary   tenía      un       c   order     ito     .\\n    Mary     had    Mary    Mary\n",
      "    0.31    0.29    0.01    0.30    0.17    0.11    0.12    0.51    0.46    0.34    0.21    0.34    0.52    0.95    0.87    0.74    0.79    0.58    0.52    0.15    0.34    0.30    0.26\n",
      "     defQuestion      to      am     \"\\n     her   order       l       ,      in English       :       \"     ten     una   peque     ord       o       .Translate       :       \"     had\n",
      "    0.10    0.16    0.01    0.03    0.08    0.11    0.08    0.03    0.06    0.19    0.13    0.24    0.13    0.02    0.12    0.05    0.01    0.13    0.16    0.13    0.13    0.20    0.12\n",
      "       #       #      to       \"       ,    hijo      uy   llama      .\"      to  French     :\\n   María      tu      ía     cab      ag      el      \\n       \"    Mary       I     had\n",
      "    0.06    0.07    0.01    0.02    0.04    0.06    0.05    0.02    0.06    0.16    0.04    0.10    0.11    0.01    0.00    0.04    0.01    0.07    0.12    0.10    0.12    0.03    0.09\n",
      "     The  import      in    Jane      en     una     uch      ll     \"\\n    from  German     .\\n   Maria     had       a       o     ach     ada     .\\n     How       \"   María     ten\n",
      "    0.03    0.03    0.01    0.02    0.02    0.06    0.05    0.02    0.05    0.07    0.04    0.08    0.04    0.01    0.00    0.03    0.01    0.04    0.02    0.07    0.05    0.02    0.04\n",
      "  import     The     the       ,       y     per     ero       l     que      is   Greek       .     Mar   había       o     car     ito    illo       ; English    into       a    Mary\n",
      "    0.02    0.03    0.01    0.02    0.02    0.02    0.04    0.01    0.04    0.02    0.03    0.05    0.02    0.01    0.00    0.02    0.00    0.03    0.02    0.05    0.05    0.02    0.03\n"
     ]
    },
    {
     "data": {
      "application/vnd.jupyter.widget-view+json": {
       "model_id": "12623d5d05be4cc993a7fc084972d703",
       "version_major": 2,
       "version_minor": 0
      },
      "text/plain": [
       "  0%|          | 0/10 [00:00<?, ?it/s]"
      ]
     },
     "metadata": {},
     "output_type": "display_data"
    },
    {
     "name": "stdout",
     "output_type": "stream",
     "text": [
      "----------------------------------------\n",
      "Merge at layer 14\n",
      "top 5 predictions:\n",
      "Question     def     the    land       \"       a  little    lamb       \"    into English      \\n    Mary   tenía       a       c   order     .\\n    Mary     had     had       a  little\n",
      "    0.30    0.29    0.01    0.28    0.14    0.13    0.36    0.92    0.50    0.35    0.15    0.32    0.56    0.89    0.88    0.45    0.41    0.52    0.20    0.53    0.80    0.60    0.77\n",
      "     defQuestion      in       \"     \"\\n      un    baby     boy      .\"      in Spanish       :       \"     had      un  little    lamb      \\n       \"    Mary       a      un    lamb\n",
      "    0.11    0.16    0.01    0.04    0.04    0.07    0.10    0.01    0.08    0.20    0.15    0.25    0.16    0.06    0.07    0.16    0.13    0.17    0.13    0.09    0.13    0.32    0.04\n",
      "       #       #      to      am       ,     una   dream     lam       ,      to  French     :\\n   María     ten     una   peque      uy       . English   María      un     una       c\n",
      "    0.06    0.08    0.01    0.03    0.03    0.05    0.02    0.00    0.06    0.14    0.05    0.12    0.06    0.01    0.02    0.06    0.04    0.10    0.08    0.05    0.00    0.01    0.03\n",
      "     The  import    from       ,       a     son     cat     ram     \"\\n    from  German     .\\n   Maria      tu      an      un     uch     ito     How   tenía     has      an   petit\n",
      "    0.03    0.03    0.00    0.02    0.03    0.02    0.01    0.00    0.04    0.08    0.04    0.07    0.03    0.01    0.01    0.05    0.03    0.05    0.07    0.02    0.00    0.01    0.02\n",
      "  import     The       a    Jane     una  little     son    goat       .      is Swedish       .     Mar   había  little     car    anto       o Spanish       :     una     had     pet\n",
      "    0.02    0.03    0.00    0.02    0.02    0.02    0.01    0.00    0.04    0.02    0.02    0.05    0.02    0.01    0.00    0.03    0.03    0.02    0.03    0.02    0.00    0.01    0.02\n"
     ]
    },
    {
     "data": {
      "application/vnd.jupyter.widget-view+json": {
       "model_id": "e223678edabd45598dca0548ad1847ff",
       "version_major": 2,
       "version_minor": 0
      },
      "text/plain": [
       "  0%|          | 0/10 [00:00<?, ?it/s]"
      ]
     },
     "metadata": {},
     "output_type": "display_data"
    },
    {
     "name": "stdout",
     "output_type": "stream",
     "text": [
      "----------------------------------------\n",
      "Merge at layer 15\n",
      "top 5 predictions:\n",
      "Question     def     the    land       \"      un      eb    lamb       \"    into English      \\n    Mary     had      un       c       c     ino       c       o   order       o    Mary\n",
      "    0.31    0.29    0.01    0.11    0.15    0.10    0.04    0.81    0.50    0.28    0.24    0.35    0.75    0.92    0.63    0.49    0.70    0.21    0.54    0.21    1.00    0.70    0.23\n",
      "     defQuestion       f       \"     una     una     ito     boy       ,      in Spanish       :       \"   tenía       a      un   peque     ito      de       c      uy     .\\n       \"\n",
      "    0.10    0.16    0.01    0.05    0.03    0.08    0.03    0.02    0.07    0.21    0.12    0.21    0.15    0.02    0.25    0.25    0.06    0.14    0.16    0.14    0.00    0.07    0.16\n",
      "       #       #       c      am      en       a    baby     ram      .\"      to  French     :\\n       (      's     una   peque     car      ño     .\\n      la   order       . English\n",
      "    0.06    0.08    0.01    0.03    0.03    0.07    0.03    0.01    0.07    0.14    0.04    0.15    0.01    0.01    0.08    0.04    0.04    0.11    0.07    0.05    0.00    0.03    0.03\n",
      "     The  import       d       a       a     her     uch    girl     que    from  German     .\\n       A     Had     had  little      ch     ano       .     bor    orte      as Spanish\n",
      "    0.03    0.03    0.01    0.03    0.03    0.02    0.03    0.01    0.03    0.05    0.04    0.07    0.00    0.00    0.01    0.03    0.03    0.04    0.03    0.05    0.00    0.01    0.03\n",
      "  import     The      in      's       ,     son     ero     lam       .      is   Greek       .     The     has       c     cab    cach      in      \\n       l     uch       í    What\n",
      "    0.02    0.03    0.01    0.02    0.02    0.02    0.02    0.01    0.03    0.02    0.02    0.05    0.00    0.00    0.00    0.02    0.02    0.04    0.02    0.03    0.00    0.01    0.02\n"
     ]
    },
    {
     "data": {
      "application/vnd.jupyter.widget-view+json": {
       "model_id": "d05439a74d484c9fba4f95ae5819d12e",
       "version_major": 2,
       "version_minor": 0
      },
      "text/plain": [
       "  0%|          | 0/10 [00:00<?, ?it/s]"
      ]
     },
     "metadata": {},
     "output_type": "display_data"
    },
    {
     "name": "stdout",
     "output_type": "stream",
     "text": [
      "----------------------------------------\n",
      "Merge at layer 16\n",
      "top 5 predictions:\n",
      "Question     def       f       \"       \"       a    baby    lamb       \"    into English       :    Mary     had      un      un   order    lamb     .\\n       \"     had     had    lamb\n",
      "    0.31    0.29    0.01    0.09    0.14    0.17    0.12    0.83    0.54    0.49    0.26    0.30    0.64    0.78    0.75    0.37    1.00    0.15    0.58    0.18    0.51    0.21    0.25\n",
      "     defQuestion       d    land       a      un  little     boy       ,      in Spanish     :\\n       \"   tenía       a       c   order       o       .    Mary    Mary       a     had\n",
      "    0.10    0.16    0.01    0.04    0.04    0.03    0.04    0.03    0.07    0.13    0.13    0.26    0.21    0.16    0.12    0.35    0.00    0.10    0.16    0.12    0.06    0.21    0.13\n",
      "       #       #       m       a       ,     una     ito     one      .\"      to  French      \\n   María   había     una   peque      uy  little      \\n<|end_of_text|>   tenía    Mary       a\n",
      "    0.06    0.08    0.01    0.02    0.03    0.02    0.02    0.02    0.05    0.09    0.05    0.19    0.02    0.01    0.11    0.05    0.00    0.07    0.05    0.06    0.04    0.08    0.12\n",
      "     The  import       c      am     una    baby     app    girl     \"\\n    from  German     .\\n   Maria     Had       c     una     uch     .\\n     .\\n English   había      \\n  little\n",
      "    0.03    0.03    0.01    0.02    0.02    0.02    0.01    0.01    0.04    0.05    0.03    0.07    0.02    0.01    0.00    0.03    0.00    0.05    0.02    0.06    0.02    0.03    0.10\n",
      "  import     The       b       (     \"\\n  little      un    baby       .       (   Greek       .     Mar      's     had  little     ern       .       ( Translate     had      un       c\n",
      "    0.02    0.03    0.01    0.01    0.02    0.02    0.01    0.01    0.03    0.02    0.02    0.04    0.01    0.00    0.00    0.02    0.00    0.05    0.01    0.05    0.02    0.02    0.06\n"
     ]
    },
    {
     "data": {
      "application/vnd.jupyter.widget-view+json": {
       "model_id": "ecb43f3829a74a3fb67ba79068a17a19",
       "version_major": 2,
       "version_minor": 0
      },
      "text/plain": [
       "  0%|          | 0/10 [00:00<?, ?it/s]"
      ]
     },
     "metadata": {},
     "output_type": "display_data"
    },
    {
     "name": "stdout",
     "output_type": "stream",
     "text": [
      "----------------------------------------\n",
      "Merge at layer 17\n",
      "top 5 predictions:\n",
      "Question     def      in       \"       \"       a    baby    lamb       \"    into English      \\n    Mary     had      un       c   order     ito     .\\n    Mary    Mary     had       a\n",
      "    0.31    0.29    0.01    0.10    0.18    0.13    0.06    0.63    0.54    0.50    0.25    0.38    0.62    0.60    0.79    0.75    0.88    0.51    0.51    0.20    0.54    0.17    0.36\n",
      "     defQuestion       f    land     una      un      eb     boy       ,      in Spanish       :       \"   tenía     una   peque     inc       o       .       \"     had       \"     had\n",
      "    0.10    0.16    0.01    0.08    0.04    0.08    0.04    0.03    0.08    0.15    0.16    0.23    0.22    0.32    0.11    0.05    0.01    0.30    0.14    0.14    0.14    0.16    0.19\n",
      "       #       #       d      am       a     una     ero     one      .\"      to  French     :\\n   María   había       a       o     azo     ita      \\n<|end_of_text|>     had       a       \"\n",
      "    0.06    0.09    0.01    0.02    0.03    0.06    0.03    0.02    0.05    0.08    0.05    0.09    0.03    0.01    0.09    0.03    0.01    0.12    0.10    0.08    0.12    0.16    0.06\n",
      "     The  import       m       a      un    baby     uch    baby       .    from  German       .   Maria   tiene       c     cab     ito    illo      de English    Mary    Mary    Mary\n",
      "    0.03    0.03    0.01    0.02    0.03    0.02    0.02    0.01    0.04    0.05    0.03    0.06    0.02    0.01    0.00    0.03    0.01    0.01    0.08    0.05    0.05    0.15    0.03\n",
      "  import     The       c      an       ,     her   order   llama     que       (       \"     .\\n     Mar      tu     had     car      ec      os       ( Translate     Had     \"\\n       (\n",
      "    0.02    0.03    0.01    0.02    0.03    0.02    0.02    0.01    0.03    0.02    0.02    0.06    0.01    0.01    0.00    0.02    0.01    0.00    0.02    0.04    0.01    0.02    0.02\n"
     ]
    },
    {
     "data": {
      "application/vnd.jupyter.widget-view+json": {
       "model_id": "8e327204a7d64be7aeac9a1571a82f99",
       "version_major": 2,
       "version_minor": 0
      },
      "text/plain": [
       "  0%|          | 0/10 [00:00<?, ?it/s]"
      ]
     },
     "metadata": {},
     "output_type": "display_data"
    },
    {
     "name": "stdout",
     "output_type": "stream",
     "text": [
      "----------------------------------------\n",
      "Merge at layer 18\n",
      "top 5 predictions:\n",
      "Question     def       d       \"       \"       a    baby    lamb       \"    into English      \\n    Mary     had      un       c   order       j    illo     .\\n       \"     had      un\n",
      "    0.31    0.30    0.01    0.16    0.18    0.11    0.08    0.69    0.58    0.51    0.27    0.46    0.61    0.64    0.77    0.67    0.99    0.63    0.42    0.66    0.18    0.37    0.44\n",
      "     defQuestion      in    land       ,      un     ero     one       ,      to Spanish       :       \"   tenía     una       o      ve      ja     ito       .    Mary   tenía       a\n",
      "    0.10    0.15    0.01    0.07    0.04    0.07    0.03    0.03    0.07    0.10    0.14    0.18    0.23    0.29    0.11    0.09    0.00    0.32    0.25    0.14    0.11    0.15    0.26\n",
      "       #       #       m      am     una     una   order     boy      .\"      in  French       .   María   había       a   peque   order       c     ita      \\n<|end_of_text|>   había     una\n",
      "    0.06    0.09    0.01    0.04    0.03    0.05    0.02    0.02    0.05    0.09    0.05    0.07    0.03    0.01    0.11    0.05    0.00    0.02    0.11    0.06    0.10    0.04    0.15\n",
      "     The  import       c       a       a    baby      eb       o       .    from  German     .\\n   Maria      tu       c     cabordering      jo     .\\n     .\\n English    Mary       c\n",
      "    0.03    0.03    0.01    0.03    0.02    0.02    0.02    0.02    0.04    0.07    0.03    0.05    0.02    0.01    0.00    0.05    0.00    0.01    0.06    0.01    0.07    0.04    0.02\n",
      "  import     The       f      an      un     her      un       l     \"\\n       (       \"       (     Mar     Had     uno       l     ove     jad       .   .\\n\\n Translation     had       o\n",
      "    0.02    0.03    0.01    0.01    0.02    0.02    0.02    0.01    0.02    0.02    0.03    0.04    0.01    0.00    0.00    0.01    0.00    0.00    0.03    0.01    0.03    0.02    0.02\n"
     ]
    },
    {
     "data": {
      "application/vnd.jupyter.widget-view+json": {
       "model_id": "209efaf069584fbaa8397f6d656e891f",
       "version_major": 2,
       "version_minor": 0
      },
      "text/plain": [
       "  0%|          | 0/10 [00:00<?, ?it/s]"
      ]
     },
     "metadata": {},
     "output_type": "display_data"
    },
    {
     "name": "stdout",
     "output_type": "stream",
     "text": [
      "----------------------------------------\n",
      "Merge at layer 19\n",
      "top 5 predictions:\n",
      "Question     def       c       \"       \"      un      un    lamb       \"    into English      \\n    Mary     had      un       c      ve     ito     .\\n<|end_of_text|>     had      un       c\n",
      "    0.31    0.30    0.01    0.17    0.18    0.11    0.09    0.71    0.59    0.48    0.30    0.42    0.64    0.77    0.79    0.68    0.59    0.28    0.64    0.12    0.44    0.41    0.33\n",
      "     defQuestion       d    land       a       a    baby     one       ,      to Spanish       :       \"   tenía     una       o   order     ita       .    Mary   tiene       a       o\n",
      "    0.10    0.15    0.01    0.06    0.04    0.10    0.05    0.02    0.06    0.11    0.12    0.23    0.19    0.17    0.11    0.08    0.39    0.24    0.13    0.12    0.23    0.21    0.28\n",
      "       #       #       B      am     una     una      uy       l      .\"    from  French       .   María   había       a   peque     ove       o      \\n       \"   tenía     una      un\n",
      "    0.06    0.09    0.01    0.05    0.03    0.08    0.02    0.02    0.06    0.09    0.04    0.08    0.03    0.01    0.08    0.06    0.00    0.14    0.04    0.10    0.04    0.14    0.11\n",
      "     The  import       m       a       ,     her  little     lam       .      in  German     .\\n   Maria     Had       c     cab   order     ino       ( English     was       c     una\n",
      "    0.03    0.03    0.01    0.02    0.03    0.02    0.02    0.01    0.03    0.09    0.03    0.06    0.03    0.01    0.00    0.04    0.00    0.03    0.01    0.06    0.01    0.02    0.03\n",
      "  import     The       f      an      un    baby     ito       \"     \"\\n       (       \"       (     Mar   tiene     uno       l     vey       a   .\\n\\n       (   había       o  little\n",
      "    0.02    0.03    0.01    0.01    0.03    0.02    0.02    0.01    0.03    0.02    0.02    0.03    0.01    0.00    0.00    0.01    0.00    0.03    0.01    0.03    0.01    0.02    0.01\n"
     ]
    },
    {
     "data": {
      "application/vnd.jupyter.widget-view+json": {
       "model_id": "119f0cca4ea143f7a11faff202f433a0",
       "version_major": 2,
       "version_minor": 0
      },
      "text/plain": [
       "  0%|          | 0/10 [00:00<?, ?it/s]"
      ]
     },
     "metadata": {},
     "output_type": "display_data"
    },
    {
     "name": "stdout",
     "output_type": "stream",
     "text": [
      "----------------------------------------\n",
      "Merge at layer 20\n",
      "top 5 predictions:\n",
      "Question     def       c       \"       \"      un      un    lamb       \"    into English      \\n    Mary     had      un       c   order       j    illo     .\\n<|end_of_text|>    Mary     had\n",
      "    0.31    0.29    0.01    0.16    0.19    0.12    0.08    0.76    0.63    0.45    0.34    0.44    0.67    0.79    0.79    0.70    0.57    0.78    0.38    0.65    0.15    0.67    0.76\n",
      "     defQuestion       d    land       a     una   order       o       ,      to Spanish       :       \"   tenía     una       o      ve      ja     ito       .       \"    Mary   tiene\n",
      "    0.10    0.15    0.01    0.03    0.04    0.08    0.04    0.02    0.06    0.13    0.13    0.28    0.18    0.15    0.10    0.06    0.41    0.18    0.34    0.15    0.13    0.02    0.03\n",
      "       #       #       m      am     una       a      uy       \"      .\"    from  French       .   María   había       a   peque     ove      jo     ita      \\n    Mary   Maria   tenía\n",
      "    0.06    0.09    0.01    0.03    0.03    0.06    0.03    0.01    0.04    0.09    0.04    0.05    0.03    0.01    0.09    0.06    0.00    0.02    0.13    0.05    0.13    0.01    0.02\n",
      "     The  import       B       a      un     her    baby     boy       .      in  German       (   Maria     Had       c     cab   order       c     .\\n     .\\n English     Mar   había\n",
      "    0.03    0.03    0.01    0.02    0.03    0.02    0.03    0.01    0.03    0.07    0.03    0.04    0.02    0.01    0.00    0.04    0.00    0.00    0.04    0.01    0.05    0.01    0.01\n",
      "  import     The       f       s       ,    hijo   actus    goat     \"\\n       (       \"     .\\n     Mar   tiene     had     car     vis     jet       .       ( Translation       I       \"\n",
      "    0.02    0.03    0.01    0.01    0.02    0.02    0.03    0.01    0.02    0.02    0.02    0.03    0.01    0.01    0.00    0.01    0.00    0.00    0.02    0.01    0.03    0.01    0.01\n"
     ]
    },
    {
     "data": {
      "application/vnd.jupyter.widget-view+json": {
       "model_id": "5235ed9710d34f42a789fded0cb27187",
       "version_major": 2,
       "version_minor": 0
      },
      "text/plain": [
       "  0%|          | 0/10 [00:00<?, ?it/s]"
      ]
     },
     "metadata": {},
     "output_type": "display_data"
    },
    {
     "name": "stdout",
     "output_type": "stream",
     "text": [
      "----------------------------------------\n",
      "Merge at layer 21\n",
      "top 5 predictions:\n",
      "Question     def       c       \"       \"      un     uch    lamb       \"    into English      \\n    Mary     had      un       c   order      ja     ito     .\\n<|end_of_text|>    Mary     had\n",
      "    0.31    0.28    0.01    0.15    0.15    0.16    0.06    0.78    0.62    0.49    0.30    0.52    0.64    0.72    0.82    0.71    0.50    0.47    0.47    0.65    0.16    0.58    0.69\n",
      "     defQuestion       m      am     una     una   uchar     boy       ,      to Spanish       :       \"   tenía     una       o      ve       j     ita       .       \"   Maria   tenía\n",
      "    0.10    0.16    0.01    0.03    0.06    0.07    0.06    0.01    0.06    0.14    0.14    0.27    0.22    0.22    0.10    0.06    0.46    0.46    0.38    0.13    0.15    0.02    0.03\n",
      "       #       #       f    land      un    hijo   order       \"      .\"    from       \"       .   María   había       a   peque     ove       c    illo      \\n    Mary     Mar   había\n",
      "    0.06    0.10    0.01    0.02    0.06    0.05    0.05    0.01    0.04    0.08    0.07    0.04    0.03    0.01    0.06    0.06    0.01    0.02    0.08    0.07    0.10    0.02    0.02\n",
      "     The  import       d       a       a     her      uy    baby     que      in  French       (   Maria   tiene       c     cab     aca      jo    illa       ( English    Mary   hatte\n",
      "    0.03    0.03    0.01    0.02    0.04    0.04    0.04    0.01    0.04    0.07    0.05    0.03    0.02    0.01    0.00    0.04    0.00    0.02    0.02    0.01    0.05    0.02    0.01\n",
      "  import     The       B       n      el      ni      un       o       .       (  German     .\\n     Mar      tu     had     car   order    illo     ina     .\\n       (       I       \"\n",
      "    0.02    0.03    0.01    0.01    0.02    0.01    0.03    0.01    0.02    0.02    0.03    0.02    0.01    0.01    0.00    0.01    0.00    0.01    0.02    0.01    0.04    0.01    0.01\n"
     ]
    },
    {
     "data": {
      "application/vnd.jupyter.widget-view+json": {
       "model_id": "ac3da40f01074d4d91d5fae031fffcf7",
       "version_major": 2,
       "version_minor": 0
      },
      "text/plain": [
       "  0%|          | 0/10 [00:00<?, ?it/s]"
      ]
     },
     "metadata": {},
     "output_type": "display_data"
    },
    {
     "name": "stdout",
     "output_type": "stream",
     "text": [
      "----------------------------------------\n",
      "Merge at layer 22\n",
      "top 5 predictions:\n",
      "Question     def       m       \"       \"      un     uch    lamb       \"    into English      \\n    Mary     had      un       c   order      ja     .\\n       \"    Mary     had       a\n",
      "    0.31    0.26    0.01    0.10    0.11    0.16    0.06    0.79    0.60    0.46    0.35    0.54    0.61    0.88    0.80    0.68    0.53    0.34    0.60    0.18    0.30    0.69    0.62\n",
      "     defQuestion       c    land     una     una      uy       o       ,      to Spanish       :       \"   tenía     una       o      ve    illo       .<|end_of_text|>   Maria       \"     had\n",
      "    0.10    0.16    0.01    0.02    0.08    0.08    0.05    0.02    0.06    0.15    0.12    0.22    0.24    0.07    0.12    0.09    0.41    0.16    0.16    0.16    0.02    0.06    0.14\n",
      "       #       #       f      am      un    hijo      un     lam      .\"    from  French       .   María     Had       a     cab     ove       j   peque    Mary     Mar   tiene    Mary\n",
      "    0.06    0.09    0.01    0.01    0.07    0.04    0.05    0.01    0.05    0.08    0.04    0.04    0.03    0.01    0.06    0.05    0.01    0.14    0.04    0.10    0.02    0.05    0.01\n",
      "     The  import       d       a       a     her   order     boy     que      in       \"     .\\n   Maria   había       c   peque     aca       c      \\n English       c   tenía    Mary\n",
      "    0.03    0.04    0.01    0.01    0.03    0.03    0.04    0.01    0.03    0.07    0.04    0.03    0.02    0.00    0.00    0.05    0.01    0.12    0.04    0.04    0.01    0.01    0.01\n",
      "  import     The       s       s      la       a   uchar     lap       .       (  German       (     Mar   tiene      en     car     vey       o       (       (       a     was     una\n",
      "    0.02    0.03    0.01    0.01    0.02    0.02    0.04    0.01    0.02    0.02    0.03    0.03    0.01    0.00    0.00    0.01    0.00    0.06    0.01    0.03    0.01    0.01    0.01\n"
     ]
    },
    {
     "data": {
      "application/vnd.jupyter.widget-view+json": {
       "model_id": "71e511fda18b4d1b9dc9b0661a0ed966",
       "version_major": 2,
       "version_minor": 0
      },
      "text/plain": [
       "  0%|          | 0/10 [00:00<?, ?it/s]"
      ]
     },
     "metadata": {},
     "output_type": "display_data"
    },
    {
     "name": "stdout",
     "output_type": "stream",
     "text": [
      "----------------------------------------\n",
      "Merge at layer 23\n",
      "top 5 predictions:\n",
      "Question     def       c       \"       \"      un     uch    lamb       \"    into English      \\n    Mary     had      un       c   order     ito     .\\n<|end_of_text|>    Mary     had       a\n",
      "    0.31    0.24    0.01    0.09    0.08    0.08    0.08    0.86    0.64    0.49    0.36    0.56    0.63    0.92    0.85    0.61    0.83    0.34    0.61    0.15    0.47    0.63    0.56\n",
      "     defQuestion       m    land     una     una   actus     lam       ,      to Spanish       :       \"   tenía     una       o      ve       o       .       \"   Maria   tenía      un\n",
      "    0.10    0.16    0.01    0.01    0.07    0.05    0.04    0.01    0.06    0.15    0.12    0.20    0.23    0.03    0.08    0.12    0.16    0.16    0.14    0.13    0.03    0.03    0.22\n",
      "       #       #       f       s      un    hijo    anto     lap      .\"    from       \"       .   María     Had       a   peque   order    illo      \\n    Mary     Mar       \"     una\n",
      "    0.06    0.10    0.01    0.01    0.07    0.05    0.03    0.01    0.05    0.08    0.05    0.04    0.02    0.00    0.05    0.07    0.00    0.15    0.05    0.10    0.02    0.02    0.17\n",
      "     The  import       d      am             her   uchar       o       .      in  French     .\\n   Maria   había       c     cab     ove     ita       ( English    Mary   había       o\n",
      "    0.03    0.04    0.01    0.01    0.04    0.03    0.03    0.01    0.03    0.06    0.04    0.04    0.02    0.00    0.00    0.05    0.00    0.13    0.02    0.05    0.02    0.02    0.00\n",
      "  import     The       B       k       a       a   order       \"     \"\\n       (  German       (     Mar      's     uno     car     aca      ja   peque       (       M   hatte       c\n",
      "    0.02    0.03    0.01    0.01    0.04    0.03    0.03    0.01    0.03    0.02    0.03    0.03    0.01    0.00    0.00    0.01    0.00    0.09    0.02    0.03    0.02    0.01    0.00\n"
     ]
    },
    {
     "data": {
      "application/vnd.jupyter.widget-view+json": {
       "model_id": "5826dddb05714c7aa692b82442f32ec7",
       "version_major": 2,
       "version_minor": 0
      },
      "text/plain": [
       "  0%|          | 0/10 [00:00<?, ?it/s]"
      ]
     },
     "metadata": {},
     "output_type": "display_data"
    },
    {
     "name": "stdout",
     "output_type": "stream",
     "text": [
      "----------------------------------------\n",
      "Merge at layer 24\n",
      "top 5 predictions:\n",
      "Question     def       f       \"     una    hijo     uch    lamb       \"    into English      \\n    Mary     had      un       c      ve     ita     .\\n<|end_of_text|>    Mary     had       a\n",
      "    0.31    0.23    0.01    0.04    0.07    0.05    0.08    0.71    0.63    0.52    0.36    0.54    0.60    0.88    0.84    0.52    0.69    0.42    0.62    0.18    0.61    0.71    0.44\n",
      "     defQuestion       c       s      un      un     ero       o       ,      to Spanish       :       \"   tenía     una       o   order     ito       .       \"    Mary   tenía      un\n",
      "    0.10    0.16    0.01    0.01    0.07    0.04    0.06    0.10    0.06    0.17    0.11    0.19    0.24    0.07    0.09    0.15    0.30    0.23    0.16    0.10    0.03    0.03    0.44\n",
      "       #       #       m       k       \"     her   actus       \"      .\"    from       \"       .   María   había       a   peque   order       o      \\n    Mary   Maria   tiene     una\n",
      "    0.06    0.10    0.01    0.01    0.06    0.04    0.05    0.01    0.04    0.09    0.04    0.04    0.04    0.01    0.05    0.09    0.00    0.04    0.03    0.08    0.02    0.03    0.07\n",
      "     The  import       s       n             una     uel    baby     que      in  French     :\\n   Maria     Had       c     cab     ove      lo      de English     Mar   había       c\n",
      "    0.03    0.03    0.01    0.01    0.05    0.03    0.04    0.01    0.03    0.03    0.04    0.04    0.03    0.00    0.00    0.06    0.00    0.02    0.02    0.06    0.02    0.01    0.01\n",
      "  import     The       b       m       a       a    anto   llama       .       (  German       (     Mar   tiene     uno       l     vey      la       ( Translate       M       \"     uno\n",
      "    0.02    0.03    0.01    0.01    0.03    0.03    0.03    0.01    0.03    0.02    0.03    0.04    0.01    0.00    0.00    0.02    0.00    0.02    0.01    0.04    0.01    0.01    0.00\n"
     ]
    },
    {
     "data": {
      "application/vnd.jupyter.widget-view+json": {
       "model_id": "5fd4be5fee4d46ec81a4dcc1f75324d1",
       "version_major": 2,
       "version_minor": 0
      },
      "text/plain": [
       "  0%|          | 0/10 [00:00<?, ?it/s]"
      ]
     },
     "metadata": {},
     "output_type": "display_data"
    },
    {
     "name": "stdout",
     "output_type": "stream",
     "text": [
      "----------------------------------------\n",
      "Merge at layer 25\n",
      "top 5 predictions:\n",
      "Question     def       f       \"      un    hijo     uch    lamb       \"    into English      \\n    Mary     had      un       c      ve     ita     .\\n<|end_of_text|>    Mary     had      un\n",
      "    0.31    0.21    0.01    0.05    0.09    0.06    0.10    0.75    0.61    0.56    0.36    0.50    0.56    0.87    0.84    0.54    0.68    0.43    0.65    0.17    0.59    0.67    0.44\n",
      "     defQuestion       c       s       \"     her     ero       o       ,      to Spanish       :       \"   tenía     una       o   order     ito       .       \"    Mary   tenía       a\n",
      "    0.10    0.16    0.01    0.01    0.07    0.05    0.05    0.10    0.07    0.14    0.11    0.24    0.27    0.07    0.10    0.16    0.31    0.18    0.14    0.11    0.05    0.05    0.43\n",
      "       #       #       m       k     una      un     uel   llama     que    from       \"     :\\n   María   había       a   peque     ove       o      \\n    Mary   Maria   tiene     una\n",
      "    0.06    0.10    0.01    0.01    0.06    0.03    0.05    0.01    0.04    0.08    0.05    0.04    0.03    0.01    0.04    0.09    0.00    0.05    0.03    0.08    0.02    0.03    0.07\n",
      "     The  import       s    land              ni      uy       \"      .\"      in  French       (   Maria     Had       c     cab     vey      la      de English     Mar   había       c\n",
      "    0.03    0.04    0.01    0.01    0.05    0.02    0.04    0.01    0.02    0.03    0.04    0.04    0.02    0.01    0.00    0.05    0.00    0.02    0.02    0.08    0.02    0.02    0.01\n",
      "  import     The       b       a      el     per    anto       l       .       (  German       .     Mar   tiene     uno       l   order      lo       ( Translate<|end_of_text|>       ,     uno\n",
      "    0.02    0.03    0.01    0.01    0.04    0.02    0.04    0.01    0.02    0.02    0.03    0.03    0.01    0.00    0.00    0.02    0.00    0.02    0.01    0.04    0.01    0.01    0.00\n"
     ]
    },
    {
     "data": {
      "application/vnd.jupyter.widget-view+json": {
       "model_id": "db2888a4e6054c37af17fc6c92004c98",
       "version_major": 2,
       "version_minor": 0
      },
      "text/plain": [
       "  0%|          | 0/10 [00:00<?, ?it/s]"
      ]
     },
     "metadata": {},
     "output_type": "display_data"
    },
    {
     "name": "stdout",
     "output_type": "stream",
     "text": [
      "----------------------------------------\n",
      "Merge at layer 26\n",
      "top 5 predictions:\n",
      "Question     def       f       \"       \"    hijo     uch       o       \"    into English      \\n    Mary     had      un       c      ve     ita     .\\n<|end_of_text|>    Mary     had       a\n",
      "    0.31    0.19    0.01    0.06    0.08    0.05    0.16    0.60    0.61    0.54    0.36    0.54    0.58    0.88    0.81    0.55    0.76    0.39    0.64    0.22    0.59    0.65    0.50\n",
      "     defQuestion       m       s      un     her     uel    lamb       ,      to Spanish       :       \"   tenía     una       o   order     ito       .       \"    Mary   tenía      un\n",
      "    0.10    0.15    0.01    0.02    0.08    0.04    0.06    0.31    0.06    0.18    0.11    0.25    0.26    0.06    0.11    0.16    0.23    0.19    0.13    0.09    0.05    0.06    0.38\n",
      "       #       #       c       k     una     per      uy   llama     que    from       \"     :\\n   María   había       a   peque     ove       o      \\n English<|end_of_text|>   tiene     una\n",
      "    0.06    0.09    0.01    0.01    0.07    0.03    0.04    0.01    0.04    0.08    0.04    0.04    0.03    0.00    0.05    0.09    0.00    0.06    0.03    0.09    0.01    0.05    0.07\n",
      "     The  import       s       a              ni    anto       \"  blanco      in  French       (   Maria   tiene       c     cab     vey       a      de    Mary     Mar   había       c\n",
      "    0.03    0.04    0.01    0.01    0.05    0.02    0.03    0.01    0.02    0.03    0.04    0.03    0.02    0.00    0.00    0.04    0.00    0.02    0.03    0.07    0.01    0.01    0.01\n",
      "  import     The       b    land      el       p   actus     ito       .       (  German       .     Mar     Had     uno       l   order       l       ( TranslateTranslate       ,     uno\n",
      "    0.02    0.04    0.01    0.01    0.03    0.01    0.03    0.01    0.02    0.02    0.03    0.02    0.01    0.00    0.00    0.02    0.00    0.01    0.01    0.04    0.01    0.01    0.00\n"
     ]
    },
    {
     "data": {
      "application/vnd.jupyter.widget-view+json": {
       "model_id": "affb30ae0da945d8be69662fa81107eb",
       "version_major": 2,
       "version_minor": 0
      },
      "text/plain": [
       "  0%|          | 0/10 [00:00<?, ?it/s]"
      ]
     },
     "metadata": {},
     "output_type": "display_data"
    },
    {
     "name": "stdout",
     "output_type": "stream",
     "text": [
      "----------------------------------------\n",
      "Merge at layer 27\n",
      "top 5 predictions:\n",
      "Question     def       f       \"      un     her     uch       o       \"    into English      \\n    Mary     had      un       c      ve     ita     .\\n<|end_of_text|>    Mary     had      un\n",
      "    0.31    0.17    0.01    0.05    0.08    0.05    0.12    0.92    0.62    0.50    0.40    0.58    0.53    0.64    0.83    0.53    0.84    0.42    0.64    0.28    0.59    0.61    0.57\n",
      "     defQuestion       c       k       \"     per     uel    lamb       ,      to Spanish       :       \"   tenía     una       o   order     ito       .       \"    Mary   tenía       a\n",
      "    0.10    0.14    0.01    0.01    0.08    0.05    0.07    0.04    0.07    0.19    0.10    0.17    0.31    0.28    0.11    0.12    0.16    0.12    0.13    0.06    0.04    0.08    0.32\n",
      "       #       #       m       s            hijo      uy     ito     que    from       \"       (   María   tiene       a   peque     vey       o      de English<|end_of_text|>   tiene     una\n",
      "    0.06    0.09    0.01    0.01    0.07    0.04    0.05    0.02    0.03    0.11    0.05    0.05    0.04    0.01    0.04    0.12    0.00    0.06    0.03    0.06    0.01    0.07    0.06\n",
      "     The     The       s    land     una     beb  little       \"       .      in  French       .   Maria   había     uno     cab   order     .\\n      \\n    Mary      is   había       c\n",
      "    0.03    0.04    0.01    0.01    0.06    0.02    0.03    0.00    0.02    0.02    0.04    0.03    0.02    0.01    0.00    0.06    0.00    0.02    0.03    0.04    0.01    0.01    0.01\n",
      "  import  import       b       a      el      ni    aram       o  blanco       (  German     .\\n     Mar      tu       c       l    read       o       ( English     Mar     Had     uno\n",
      "    0.02    0.04    0.01    0.01    0.03    0.02    0.02    0.00    0.02    0.02    0.03    0.03    0.01    0.01    0.00    0.02    0.00    0.02    0.01    0.04    0.01    0.01    0.00\n"
     ]
    },
    {
     "data": {
      "application/vnd.jupyter.widget-view+json": {
       "model_id": "eb13439d70e44fd3a4b2d39a7dd316f9",
       "version_major": 2,
       "version_minor": 0
      },
      "text/plain": [
       "  0%|          | 0/10 [00:00<?, ?it/s]"
      ]
     },
     "metadata": {},
     "output_type": "display_data"
    },
    {
     "name": "stdout",
     "output_type": "stream",
     "text": [
      "----------------------------------------\n",
      "Merge at layer 28\n",
      "top 5 predictions:\n",
      "QuestionQuestion       f       \"       \"     her     uch       o       \"    into English      \\n    Mary     had      un       c      ve     ita     .\\n<|end_of_text|><|begin_of_text|>     ://      \\n\n",
      "    0.31    0.12    0.01    0.02    0.08    0.06    0.12    0.94    0.65    0.39    0.41    0.63    0.56    0.78    0.84    0.53    0.94    0.49    0.62    0.23    0.24    0.49    0.03\n",
      "     def     def       m       k      un     per     uel    lamb       ,      to Spanish       :       \"   tenía     una       o   order     ito       . English       :  .swing       .\n",
      "    0.10    0.11    0.01    0.02    0.07    0.05    0.06    0.03    0.06    0.26    0.10    0.13    0.30    0.15    0.08    0.15    0.05    0.16    0.15    0.07    0.17    0.04    0.03\n",
      "       #       #       b       s            hijo  little     ito     que    from  French       .   María     Had       a   peque     vin       o      \\n       \" translation  .Forms    Mary\n",
      "    0.06    0.08    0.01    0.01    0.07    0.04    0.05    0.00    0.03    0.16    0.04    0.05    0.02    0.01    0.06    0.10    0.00    0.06    0.03    0.07    0.07    0.04    0.03\n",
      "     The     The       c    land     una    vest   andel       o       .      in       \"       (   Maria   había       c     cab     vis     .\\n      de    Mary      \\n Angeles     the\n",
      "    0.03    0.04    0.01    0.01    0.05    0.02    0.04    0.00    0.02    0.02    0.04    0.04    0.01    0.01    0.00    0.06    0.00    0.02    0.03    0.05    0.02    0.03    0.02\n",
      "  import  import       s       b      el   peque      uy       \"  blanco       (  German     .\\n     Mar   tiene     uno       l     vey       a       ( Translate sentence    _REF       ,\n",
      "    0.02    0.03    0.01    0.01    0.03    0.02    0.03    0.00    0.02    0.02    0.03    0.03    0.01    0.01    0.00    0.02    0.00    0.02    0.01    0.05    0.02    0.02    0.02\n"
     ]
    },
    {
     "data": {
      "application/vnd.jupyter.widget-view+json": {
       "model_id": "c048d793c8334096b8b1b686429a5816",
       "version_major": 2,
       "version_minor": 0
      },
      "text/plain": [
       "  0%|          | 0/10 [00:00<?, ?it/s]"
      ]
     },
     "metadata": {},
     "output_type": "display_data"
    },
    {
     "name": "stdout",
     "output_type": "stream",
     "text": [
      "----------------------------------------\n",
      "Merge at layer 29\n",
      "top 5 predictions:\n",
      "QuestionQuestion       m       \"               a     uch       o       \"    into English      \\n    Mary     had      un       c      ve     ita     .\\n<|end_of_text|>    Mary     had      un\n",
      "    0.31    0.07    0.01    0.02    0.08    0.07    0.07    0.76    0.67    0.41    0.36    0.59    0.54    0.82    0.82    0.46    0.92    0.52    0.62    0.11    0.41    0.65    0.51\n",
      "     def     def       c       s      un     her  little    lamb       ,      to Spanish       :       \"   tenía     una       o   order     ito       .       \"    Mary   tenía       a\n",
      "    0.10    0.05    0.01    0.01    0.08    0.07    0.06    0.17    0.06    0.25    0.11    0.11    0.32    0.11    0.08    0.17    0.08    0.10    0.14    0.07    0.06    0.07    0.39\n",
      "       #       #       b       k       \"     per     uel     ito     que    from       \"       .   Maria     Had       a   peque     aca       o      \\n    Mary<|end_of_text|>   tiene     una\n",
      "    0.06    0.04    0.01    0.01    0.08    0.05    0.04    0.01    0.02    0.16    0.05    0.06    0.02    0.01    0.07    0.13    0.00    0.06    0.04    0.07    0.03    0.05    0.05\n",
      "     The     The       f    land     una    hijo   uchar       \"       .      in  French       (   María   tiene      la     cab   order       a      de English       (   había       c\n",
      "    0.03    0.03    0.01    0.01    0.05    0.03    0.04    0.01    0.02    0.02    0.04    0.05    0.02    0.01    0.00    0.07    0.00    0.03    0.03    0.06    0.01    0.01    0.01\n",
      "  import       A       B       m      el    vest   actus     boy      .\"       (  German     .\\n       (      tu       c     car     vel     .\\n       ( English      is     Had     uno\n",
      "    0.02    0.02    0.01    0.01    0.03    0.02    0.03    0.00    0.02    0.02    0.04    0.04    0.01    0.01    0.00    0.02    0.00    0.02    0.01    0.06    0.01    0.01    0.00\n"
     ]
    },
    {
     "data": {
      "application/vnd.jupyter.widget-view+json": {
       "model_id": "fe688c44d78247e7af3ec8a21b2bd7f2",
       "version_major": 2,
       "version_minor": 0
      },
      "text/plain": [
       "  0%|          | 0/10 [00:00<?, ?it/s]"
      ]
     },
     "metadata": {},
     "output_type": "display_data"
    },
    {
     "name": "stdout",
     "output_type": "stream",
     "text": [
      "----------------------------------------\n",
      "Merge at layer 30\n",
      "top 5 predictions:\n",
      "Question     ://       c       s       \"       a  little       o       \"    into English      \\n    Mary     had      un       c      ña     ita       \"   tenía      un       c      ña\n",
      "    0.31    0.12    0.01    0.02    0.08    0.19    0.25    0.75    0.64    0.43    0.38    0.58    0.62    0.77    0.85    0.41    0.85    0.38    0.09    0.63    0.62    0.25    0.76\n",
      "     def     php       B       k             her    orte    lamb       ,      to Spanish       :       \"   tenía     una   peque       ñ     .\\n    Mary   tiene     una   peque       ñ\n",
      "    0.10    0.07    0.01    0.02    0.08    0.05    0.03    0.14    0.10    0.23    0.11    0.13    0.25    0.15    0.08    0.16    0.09    0.03    0.07    0.09    0.21    0.22    0.22\n",
      "       #Question       m    land      un     per  Little     ito     que    from  French       (   Maria   tiene       a       o      ño      ín      de     had       a       o      ño\n",
      "    0.06    0.01    0.01    0.01    0.07    0.04    0.02    0.02    0.02    0.17    0.04    0.06    0.02    0.01    0.05    0.14    0.01    0.03    0.03    0.07    0.02    0.10    0.01\n",
      "     The       A       b       l     una      ni    baby       \"       .      in       \"       .   María      tu     uno     cab       Ã       í English    into     .\\n     cab     ñas\n",
      "    0.03    0.01    0.01    0.01    0.05    0.01    0.02    0.01    0.02    0.02    0.04    0.06    0.02    0.01    0.00    0.09    0.01    0.02    0.02    0.03    0.01    0.06    0.00\n",
      "  import    _REF       f       b      la    vest     uch       o  blanco       (  German     .\\n       (     Had      la       l   order       a     The   había      \\n       p       ń\n",
      "    0.02    0.01    0.01    0.01    0.03    0.01    0.02    0.01    0.01    0.02    0.03    0.03    0.01    0.01    0.00    0.02    0.00    0.02    0.02    0.02    0.01    0.02    0.00\n"
     ]
    },
    {
     "data": {
      "application/vnd.jupyter.widget-view+json": {
       "model_id": "b87b1aa723c941e0a39d1bdb6fbbf5dd",
       "version_major": 2,
       "version_minor": 0
      },
      "text/plain": [
       "  0%|          | 0/10 [00:00<?, ?it/s]"
      ]
     },
     "metadata": {},
     "output_type": "display_data"
    },
    {
     "name": "stdout",
     "output_type": "stream",
     "text": [
      "----------------------------------------\n",
      "Merge at layer 31\n",
      "top 5 predictions:\n",
      "Question     php       S       s               a  little       o       \"    into English      \\n    Mary     had      un       c      ña     ita       \"    into English     had       a\n",
      "    0.31    0.02    0.01    0.02    0.13    0.35    0.23    0.56    0.62    0.40    0.38    0.60    0.58    0.84    0.77    0.37    0.87    0.10    0.11    0.12    0.08    0.17    0.12\n",
      "     def     The       B       k       \"     her    baby    lamb       ,      to Spanish       :       \"   tenía     una   peque       ñ     .\\n       .       \"    Mary       :      un\n",
      "    0.10    0.01    0.01    0.01    0.09    0.07    0.11    0.14    0.10    0.23    0.11    0.10    0.28    0.08    0.10    0.20    0.05    0.05    0.03    0.06    0.05    0.13    0.05\n",
      "       #Question       M       a      un     per     uch       \"       .    from  French       (   Maria     Had       a     cab      ño      de    Mary Translate       \"   tenía    Mary\n",
      "    0.06    0.01    0.01    0.01    0.04    0.02    0.03    0.03    0.03    0.16    0.04    0.07    0.02    0.01    0.09    0.10    0.02    0.03    0.03    0.05    0.05    0.06    0.05\n",
      "     The     ://       c       l      la      an    orte     ito    ...\"      in  German       .   María   tiene      la       o       Ã       a      \\n    Mary    Mary   tiene       \"\n",
      "    0.03    0.01    0.01    0.01    0.04    0.01    0.02    0.03    0.02    0.02    0.04    0.07    0.02    0.01    0.00    0.09    0.01    0.03    0.02    0.05    0.05    0.04    0.05\n",
      "  import       A       C       n      el       p       \"     boy       (       (       \"     .\\n       (       ,     uno       l   order      \\n     The       ( Spanish       \"       I\n",
      "    0.02    0.01    0.01    0.01    0.03    0.01    0.02    0.01    0.02    0.02    0.03    0.04    0.01    0.01    0.00    0.03    0.01    0.03    0.02    0.05    0.04    0.03    0.05\n"
     ]
    }
   ],
   "source": [
    "import pandas as pd\n",
    "import numpy as np\n",
    "from matplotlib import pyplot as plt\n",
    "from collections import defaultdict\n",
    "from tqdm.notebook import tqdm\n",
    "\n",
    "result_1 = defaultdict(list)\n",
    "result_2 = defaultdict(list)\n",
    "max_tokens = 10\n",
    "lamb = 0.49\n",
    "\n",
    "with torch.no_grad():\n",
    "    for layer in range(0, model.cfg.n_layers):\n",
    "        test_str_1 = tokenizer('Translate \"Mary had a little lamb\" into Spanish: María', return_tensors='pt').input_ids[0]\n",
    "        test_str_2 = tokenizer('Translate \"Mary tenía un corderito.\" into English: Mary', return_tensors='pt').input_ids[0]\n",
    "        seq_len = max(test_str_1.shape[0], test_str_2.shape[0])\n",
    "        test_str_1 = torch.cat([torch.tensor([tokenizer.bos_token_id] * (seq_len - test_str_1.shape[0]), dtype=torch.long), test_str_1])\n",
    "        test_str_2 = torch.cat([torch.tensor([tokenizer.bos_token_id] * (seq_len - test_str_2.shape[0]), dtype=torch.long), test_str_2])\n",
    "\n",
    "        for tok_i in tqdm(range(max_tokens)):\n",
    "            if len(result_1[layer]) > 0: test_str_1 = torch.cat([test_str_1, torch.tensor([result_1[layer][-1]], dtype=torch.long)])\n",
    "            if len(result_2[layer]) > 0: test_str_2 = torch.cat([test_str_2, torch.tensor([result_2[layer][-1]], dtype=torch.long)])\n",
    "\n",
    "            embed_1 = model.input_to_embed(test_str_1)[0].cpu()\n",
    "            embed_2 = model.input_to_embed(test_str_2)[0].cpu()\n",
    "\n",
    "            # embed_1 = embed_1[:, :seq_len]\n",
    "            # embed_2 = embed_2[:, :seq_len]\n",
    "\n",
    "            resid_1 = model.forward(embed_1, return_type='logits', start_at_layer=0, stop_at_layer=layer).cpu()\n",
    "            resid_2 = model.forward(embed_2, return_type='logits', start_at_layer=0, stop_at_layer=layer).cpu()\n",
    "\n",
    "            resid_comb = (lamb) * resid_1 + (1-lamb) * resid_2\n",
    "\n",
    "            logits = model.forward(resid_comb, return_type='logits', start_at_layer=layer).cpu()\n",
    "            # print(logits.shape)\n",
    "            # print(decode(logits[0].argmax(-1).cpu().tolist()))\n",
    "            val, idx = logits[0].detach().float().softmax(-1).topk(5)\n",
    "            # print(val.shape)\n",
    "            if tok_i == max_tokens - 1:\n",
    "                print('-' * 40)\n",
    "                print('Merge at layer', layer)\n",
    "                print('top 5 predictions:')\n",
    "                for j in range(5):\n",
    "                    print(('{:>8}' * idx.shape[0]).format(*[repr(tokenizer.decode([i]))[1:-1] for i in idx[:, j].numpy()]))\n",
    "                    print(('{:8.2f}' * val.shape[0]).format(*[i for i in val[:, j].numpy()]))\n",
    "\n",
    "            result_1[layer] += [idx[-1, 0]]\n",
    "            result_2[layer] += [idx[-1, 1]]\n"
   ]
  },
  {
   "cell_type": "code",
   "execution_count": null,
   "metadata": {},
   "outputs": [],
   "source": []
  }
 ],
 "metadata": {
  "kernelspec": {
   "display_name": "base",
   "language": "python",
   "name": "python3"
  },
  "language_info": {
   "codemirror_mode": {
    "name": "ipython",
    "version": 3
   },
   "file_extension": ".py",
   "mimetype": "text/x-python",
   "name": "python",
   "nbconvert_exporter": "python",
   "pygments_lexer": "ipython3",
   "version": "3.11.7"
  }
 },
 "nbformat": 4,
 "nbformat_minor": 2
}
