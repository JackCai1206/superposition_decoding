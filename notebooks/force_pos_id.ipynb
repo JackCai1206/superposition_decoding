{
 "cells": [
  {
   "cell_type": "code",
   "execution_count": 1,
   "metadata": {},
   "outputs": [
    {
     "name": "stderr",
     "output_type": "stream",
     "text": [
      "Special tokens have been added in the vocabulary, make sure the associated word embeddings are fine-tuned or trained.\n"
     ]
    },
    {
     "data": {
      "application/vnd.jupyter.widget-view+json": {
       "model_id": "81c77a483000474c903f97447b5249b4",
       "version_major": 2,
       "version_minor": 0
      },
      "text/plain": [
       "Loading checkpoint shards:   0%|          | 0/4 [00:00<?, ?it/s]"
      ]
     },
     "metadata": {},
     "output_type": "display_data"
    },
    {
     "name": "stderr",
     "output_type": "stream",
     "text": [
      "WARNING:root:Some parameters are on the meta device device because they were offloaded to the cpu.\n"
     ]
    }
   ],
   "source": [
    "import torch\n",
    "from transformers import AutoTokenizer, AutoModelForCausalLM, LlamaForCausalLM\n",
    "\n",
    "# Check if a GPU is available and set the device\n",
    "device = torch.device(\"cuda:1\" if torch.cuda.is_available() else \"cpu\")\n",
    "\n",
    "# Specify the model ID\n",
    "model_id = \"meta-llama/Meta-Llama-3-8B\"\n",
    "\n",
    "# Load the tokenizer from the Hugging Face library\n",
    "tokenizer = AutoTokenizer.from_pretrained(model_id)\n",
    "\n",
    "model: LlamaForCausalLM = AutoModelForCausalLM.from_pretrained(model_id, torch_dtype=torch.float32, device_map='auto')\n"
   ]
  },
  {
   "cell_type": "code",
   "execution_count": 16,
   "metadata": {},
   "outputs": [
    {
     "data": {
      "application/vnd.jupyter.widget-view+json": {
       "model_id": "d7bb07db7dc847b1b40288781a0c2742",
       "version_major": 2,
       "version_minor": 0
      },
      "text/plain": [
       "  0%|          | 0/10 [00:00<?, ?it/s]"
      ]
     },
     "metadata": {},
     "output_type": "display_data"
    },
    {
     "name": "stdout",
     "output_type": "stream",
     "text": [
      "----------------------------------------\n",
      "top 5 predictions:\n",
      "QuestionQuestion       :     ://    What       :     the    What       I     the     had       I      un       \"     per       a     uch  little       o    lamb    lamb       \"    into    into Spanish Spanish     .\\n     .\\n       A       A       :       :    Mary    Mary       1       1\n",
      "    0.31    0.31    0.16    0.43    0.05    0.21    0.23    0.12    0.06    0.22    0.08    0.05    0.12    0.29    0.04    0.32    0.09    0.65    0.86    0.81    0.20    0.42    0.27    0.34    0.28    0.31    0.47    0.40    0.26    0.27    0.77    0.72    0.29    0.30    0.72    0.76\n",
      "     def     def      &A    _REF     The       .    this       I     The    this      is     The     una     had     her      to    ator   black     ito    Lamb       \"     \"\\n      to      to English English       .       .    What       (       .       .       \"       \"    \\xa0    \\xa0\n",
      "    0.10    0.10    0.14    0.08    0.04    0.20    0.06    0.11    0.04    0.09    0.07    0.03    0.11    0.07    0.04    0.04    0.09    0.01    0.05    0.03    0.17    0.08    0.13    0.26    0.20    0.18    0.17    0.19    0.04    0.05    0.08    0.11    0.25    0.24    0.05    0.04\n",
      "       #       #       .  .Forms     How       1      \\n     How       A       \"     and     the     que     \"\\n   libro    been    erve    baby      oy     lam       a       ,       (      in  French  French      \\n      \\n       (    What     :\\n       )    Mary    Mary       2       2\n",
      "    0.06    0.06    0.13    0.08    0.03    0.06    0.03    0.08    0.02    0.05    0.06    0.02    0.10    0.03    0.04    0.03    0.08    0.01    0.01    0.01    0.04    0.05    0.04    0.07    0.07    0.08    0.09    0.11    0.04    0.04    0.02    0.02    0.03    0.03    0.04    0.03\n",
      "     The     The    atar     php             ing       \"      Is    What       a      's       A       \"      's     sue      an     inc     big       a       l       ,      .\"       \"       (     the     the     ?\\n     and       I       I       )     :\\n     The     The       3       3\n",
      "    0.03    0.03    0.06    0.05    0.03    0.02    0.03    0.03    0.01    0.03    0.05    0.01    0.06    0.03    0.03    0.03    0.06    0.01    0.01    0.01    0.04    0.05    0.03    0.03    0.04    0.03    0.03    0.04    0.03    0.03    0.01    0.02    0.03    0.03    0.02    0.02\n",
      "  import  import       1 Angeles    \\xa0       -       a     Can     the       \"    land       a      la       ,    vest     two     int   great      os   llama      un       \"    What    from  German  German     and     ?\\n       \"       \"      :\"      :\"     Mar      La    Mary    Mary\n",
      "    0.02    0.02    0.03    0.02    0.02    0.01    0.03    0.03    0.01    0.02    0.05    0.01    0.04    0.02    0.03    0.03    0.06    0.01    0.00    0.00    0.04    0.03    0.03    0.03    0.02    0.03    0.03    0.03    0.03    0.03    0.01    0.01    0.02    0.02    0.01    0.01\n",
      "----------------------------------------\n",
      "top 5 predictions:\n",
      "QuestionQuestion       :     ://    What       :     the    What       I     the     had       I      un       \"     per       a     uch  little       o    lamb    lamb       \"    into    into Spanish Spanish     .\\n     .\\n       A       A       :       :    Mary    Mary       1       1    Mary       .\n",
      "    0.31    0.31    0.16    0.43    0.05    0.21    0.23    0.12    0.06    0.22    0.08    0.05    0.12    0.29    0.04    0.32    0.09    0.65    0.86    0.81    0.20    0.42    0.27    0.34    0.28    0.31    0.47    0.40    0.26    0.27    0.77    0.72    0.29    0.30    0.72    0.76    0.37    0.63\n",
      "     def     def      &A    _REF     The       .    this       I     The    this      is     The     una     had     her      to    ator   black     ito    Lamb       \"     \"\\n      to      to English English       .       .    What       (       .       .       \"       \"    \\xa0    \\xa0       \"       )\n",
      "    0.10    0.10    0.14    0.08    0.04    0.20    0.06    0.11    0.04    0.09    0.07    0.03    0.11    0.07    0.04    0.04    0.09    0.01    0.05    0.03    0.17    0.08    0.13    0.26    0.20    0.18    0.17    0.19    0.04    0.05    0.08    0.11    0.25    0.24    0.05    0.04    0.16    0.14\n",
      "       #       #       .  .Forms     How       1      \\n     How       A       \"     and     the     que     \"\\n   libro    been    erve    baby      oy     lam       a       ,       (      in  French  French      \\n      \\n       (    What     :\\n       )    Mary    Mary       2       2     Mar       -\n",
      "    0.06    0.06    0.13    0.08    0.03    0.06    0.03    0.08    0.02    0.05    0.06    0.02    0.10    0.03    0.04    0.03    0.08    0.01    0.01    0.01    0.04    0.05    0.04    0.07    0.07    0.08    0.09    0.11    0.04    0.04    0.02    0.02    0.03    0.03    0.04    0.03    0.04    0.02\n",
      "     The     The    atar     php             ing       \"      Is    What       a      's       A       \"      's     sue      an     inc     big       a       l       ,      .\"       \"       (     the     the     ?\\n     and       I       I       )     :\\n     The     The       3       3      La     .\\n\n",
      "    0.03    0.03    0.06    0.05    0.03    0.02    0.03    0.03    0.01    0.03    0.05    0.01    0.06    0.03    0.03    0.03    0.06    0.01    0.01    0.01    0.04    0.05    0.03    0.03    0.04    0.03    0.03    0.04    0.03    0.03    0.01    0.02    0.03    0.03    0.02    0.02    0.02    0.01\n",
      "  import  import       1 Angeles    \\xa0       -       a     Can     the       \"    land       a      la       ,    vest     two     int   great      os   llama      un       \"    What    from  German  German     and     ?\\n       \"       \"      :\"      :\"     Mar      La    Mary    Mary     The      \\n\n",
      "    0.02    0.02    0.03    0.02    0.02    0.01    0.03    0.03    0.01    0.02    0.05    0.01    0.04    0.02    0.03    0.03    0.06    0.01    0.00    0.00    0.04    0.03    0.03    0.03    0.02    0.03    0.03    0.03    0.03    0.03    0.01    0.01    0.02    0.02    0.01    0.01    0.02    0.01\n",
      "----------------------------------------\n",
      "top 5 predictions:\n",
      "QuestionQuestion       :     ://    What       :     the    What       I     the     had       I      un       \"     per       a     uch  little       o    lamb    lamb       \"    into    into Spanish Spanish     .\\n     .\\n       A       A       :       :    Mary    Mary       1       1    Mary       .    Mary    Mary\n",
      "    0.31    0.31    0.16    0.43    0.05    0.21    0.23    0.12    0.06    0.22    0.08    0.05    0.12    0.29    0.04    0.32    0.09    0.65    0.86    0.81    0.20    0.42    0.27    0.34    0.28    0.31    0.47    0.40    0.26    0.27    0.77    0.72    0.29    0.30    0.72    0.76    0.37    0.63    0.46    0.39\n",
      "     def     def      &A    _REF     The       .    this       I     The    this      is     The     una     had     her      to    ator   black     ito    Lamb       \"     \"\\n      to      to English English       .       .    What       (       .       .       \"       \"    \\xa0    \\xa0       \"       )       \"       \"\n",
      "    0.10    0.10    0.14    0.08    0.04    0.20    0.06    0.11    0.04    0.09    0.07    0.03    0.11    0.07    0.04    0.04    0.09    0.01    0.05    0.03    0.17    0.08    0.13    0.26    0.20    0.18    0.17    0.19    0.04    0.05    0.08    0.11    0.25    0.24    0.05    0.04    0.16    0.14    0.07    0.08\n",
      "       #       #       .  .Forms     How       1      \\n     How       A       \"     and     the     que     \"\\n   libro    been    erve    baby      oy     lam       a       ,       (      in  French  French      \\n      \\n       (    What     :\\n       )    Mary    Mary       2       2     Mar       -    Mary        \n",
      "    0.06    0.06    0.13    0.08    0.03    0.06    0.03    0.08    0.02    0.05    0.06    0.02    0.10    0.03    0.04    0.03    0.08    0.01    0.01    0.01    0.04    0.05    0.04    0.07    0.07    0.08    0.09    0.11    0.04    0.04    0.02    0.02    0.03    0.03    0.04    0.03    0.04    0.02    0.06    0.06\n",
      "     The     The    atar     php             ing       \"      Is    What       a      's       A       \"      's     sue      an     inc     big       a       l       ,      .\"       \"       (     the     the     ?\\n     and       I       I       )     :\\n     The     The       3       3      La     .\\n   María    \\xa0\n",
      "    0.03    0.03    0.06    0.05    0.03    0.02    0.03    0.03    0.01    0.03    0.05    0.01    0.06    0.03    0.03    0.03    0.06    0.01    0.01    0.01    0.04    0.05    0.03    0.03    0.04    0.03    0.03    0.04    0.03    0.03    0.01    0.02    0.03    0.03    0.02    0.02    0.02    0.01    0.04    0.05\n",
      "  import  import       1 Angeles    \\xa0       -       a     Can     the       \"    land       a      la       ,    vest     two     int   great      os   llama      un       \"    What    from  German  German     and     ?\\n       \"       \"      :\"      :\"     Mar      La    Mary    Mary     The      \\n     Mar     Mar\n",
      "    0.02    0.02    0.03    0.02    0.02    0.01    0.03    0.03    0.01    0.02    0.05    0.01    0.04    0.02    0.03    0.03    0.06    0.01    0.00    0.00    0.04    0.03    0.03    0.03    0.02    0.03    0.03    0.03    0.03    0.03    0.01    0.01    0.02    0.02    0.01    0.01    0.02    0.01    0.02    0.03\n",
      "----------------------------------------\n",
      "top 5 predictions:\n",
      "QuestionQuestion       :     ://    What       :     the    What       I     the     had       I      un       \"     per       a     uch  little       o    lamb    lamb       \"    into    into Spanish Spanish     .\\n     .\\n       A       A       :       :    Mary    Mary       1       1    Mary       .    Mary    Mary    Mary     had\n",
      "    0.31    0.31    0.16    0.43    0.05    0.21    0.23    0.12    0.06    0.22    0.08    0.05    0.12    0.29    0.04    0.32    0.09    0.65    0.86    0.81    0.20    0.42    0.27    0.34    0.28    0.31    0.47    0.40    0.26    0.27    0.77    0.72    0.29    0.30    0.72    0.76    0.37    0.63    0.46    0.39    0.68    0.69\n",
      "     def     def      &A    _REF     The       .    this       I     The    this      is     The     una     had     her      to    ator   black     ito    Lamb       \"     \"\\n      to      to English English       .       .    What       (       .       .       \"       \"    \\xa0    \\xa0       \"       )       \"       \"     Mar   tenía\n",
      "    0.10    0.10    0.14    0.08    0.04    0.20    0.06    0.11    0.04    0.09    0.07    0.03    0.11    0.07    0.04    0.04    0.09    0.01    0.05    0.03    0.17    0.08    0.13    0.26    0.20    0.18    0.17    0.19    0.04    0.05    0.08    0.11    0.25    0.24    0.05    0.04    0.16    0.14    0.07    0.08    0.06    0.06\n",
      "       #       #       .  .Forms     How       1      \\n     How       A       \"     and     the     que     \"\\n   libro    been    erve    baby      oy     lam       a       ,       (      in  French  French      \\n      \\n       (    What     :\\n       )    Mary    Mary       2       2     Mar       -    Mary            Mary      's\n",
      "    0.06    0.06    0.13    0.08    0.03    0.06    0.03    0.08    0.02    0.05    0.06    0.02    0.10    0.03    0.04    0.03    0.08    0.01    0.01    0.01    0.04    0.05    0.04    0.07    0.07    0.08    0.09    0.11    0.04    0.04    0.02    0.02    0.03    0.03    0.04    0.03    0.04    0.02    0.06    0.06    0.03    0.02\n",
      "     The     The    atar     php             ing       \"      Is    What       a      's       A       \"      's     sue      an     inc     big       a       l       ,      .\"       \"       (     the     the     ?\\n     and       I       I       )     :\\n     The     The       3       3      La     .\\n   María    \\xa0   Maria      tu\n",
      "    0.03    0.03    0.06    0.05    0.03    0.02    0.03    0.03    0.01    0.03    0.05    0.01    0.06    0.03    0.03    0.03    0.06    0.01    0.01    0.01    0.04    0.05    0.03    0.03    0.04    0.03    0.03    0.04    0.03    0.03    0.01    0.02    0.03    0.03    0.02    0.02    0.02    0.01    0.04    0.05    0.02    0.02\n",
      "  import  import       1 Angeles    \\xa0       -       a     Can     the       \"    land       a      la       ,    vest     two     int   great      os   llama      un       \"    What    from  German  German     and     ?\\n       \"       \"      :\"      :\"     Mar      La    Mary    Mary     The      \\n     Mar     Mar       M   tiene\n",
      "    0.02    0.02    0.03    0.02    0.02    0.01    0.03    0.03    0.01    0.02    0.05    0.01    0.04    0.02    0.03    0.03    0.06    0.01    0.00    0.00    0.04    0.03    0.03    0.03    0.02    0.03    0.03    0.03    0.03    0.03    0.01    0.01    0.02    0.02    0.01    0.01    0.02    0.01    0.02    0.03    0.02    0.02\n",
      "----------------------------------------\n",
      "top 5 predictions:\n",
      "QuestionQuestion       :     ://    What       :     the    What       I     the     had       I      un       \"     per       a     uch  little       o    lamb    lamb       \"    into    into Spanish Spanish     .\\n     .\\n       A       A       :       :    Mary    Mary       1       1    Mary       .    Mary    Mary    Mary     had      un       a\n",
      "    0.31    0.31    0.16    0.43    0.05    0.21    0.23    0.12    0.06    0.22    0.08    0.05    0.12    0.29    0.04    0.32    0.09    0.65    0.86    0.81    0.20    0.42    0.27    0.34    0.28    0.31    0.47    0.40    0.26    0.27    0.77    0.72    0.29    0.30    0.72    0.76    0.37    0.63    0.46    0.39    0.68    0.69    0.63    0.83\n",
      "     def     def      &A    _REF     The       .    this       I     The    this      is     The     una     had     her      to    ator   black     ito    Lamb       \"     \"\\n      to      to English English       .       .    What       (       .       .       \"       \"    \\xa0    \\xa0       \"       )       \"       \"     Mar   tenía       a      un\n",
      "    0.10    0.10    0.14    0.08    0.04    0.20    0.06    0.11    0.04    0.09    0.07    0.03    0.11    0.07    0.04    0.04    0.09    0.01    0.05    0.03    0.17    0.08    0.13    0.26    0.20    0.18    0.17    0.19    0.04    0.05    0.08    0.11    0.25    0.24    0.05    0.04    0.16    0.14    0.07    0.08    0.06    0.06    0.19    0.03\n",
      "       #       #       .  .Forms     How       1      \\n     How       A       \"     and     the     que     \"\\n   libro    been    erve    baby      oy     lam       a       ,       (      in  French  French      \\n      \\n       (    What     :\\n       )    Mary    Mary       2       2     Mar       -    Mary            Mary      's     had  little\n",
      "    0.06    0.06    0.13    0.08    0.03    0.06    0.03    0.08    0.02    0.05    0.06    0.02    0.10    0.03    0.04    0.03    0.08    0.01    0.01    0.01    0.04    0.05    0.04    0.07    0.07    0.08    0.09    0.11    0.04    0.04    0.02    0.02    0.03    0.03    0.04    0.03    0.04    0.02    0.06    0.06    0.03    0.02    0.04    0.03\n",
      "     The     The    atar     php             ing       \"      Is    What       a      's       A       \"      's     sue      an     inc     big       a       l       ,      .\"       \"       (     the     the     ?\\n     and       I       I       )     :\\n     The     The       3       3      La     .\\n   María    \\xa0   Maria      tu     una       a\n",
      "    0.03    0.03    0.06    0.05    0.03    0.02    0.03    0.03    0.01    0.03    0.05    0.01    0.06    0.03    0.03    0.03    0.06    0.01    0.01    0.01    0.04    0.05    0.03    0.03    0.04    0.03    0.03    0.04    0.03    0.03    0.01    0.02    0.03    0.03    0.02    0.02    0.02    0.01    0.04    0.05    0.02    0.02    0.03    0.02\n",
      "  import  import       1 Angeles    \\xa0       -       a     Can     the       \"    land       a      la       ,    vest     two     int   great      os   llama      un       \"    What    from  German  German     and     ?\\n       \"       \"      :\"      :\"     Mar      La    Mary    Mary     The      \\n     Mar     Mar       M   tiene    \\xa0     had\n",
      "    0.02    0.02    0.03    0.02    0.02    0.01    0.03    0.03    0.01    0.02    0.05    0.01    0.04    0.02    0.03    0.03    0.06    0.01    0.00    0.00    0.04    0.03    0.03    0.03    0.02    0.03    0.03    0.03    0.03    0.03    0.01    0.01    0.02    0.02    0.01    0.01    0.02    0.01    0.02    0.03    0.02    0.02    0.01    0.01\n",
      "----------------------------------------\n",
      "top 5 predictions:\n",
      "QuestionQuestion       :     ://    What       :     the    What       I     the     had       I      un       \"     per       a     uch  little       o    lamb    lamb       \"    into    into Spanish Spanish     .\\n     .\\n       A       A       :       :    Mary    Mary       1       1    Mary       .    Mary    Mary    Mary     had      un       a       c  little\n",
      "    0.31    0.31    0.16    0.43    0.05    0.21    0.23    0.12    0.06    0.22    0.08    0.05    0.12    0.29    0.04    0.32    0.09    0.65    0.86    0.81    0.20    0.42    0.27    0.34    0.28    0.31    0.47    0.40    0.26    0.27    0.77    0.72    0.29    0.30    0.72    0.76    0.37    0.63    0.46    0.39    0.68    0.69    0.63    0.83    0.59    0.79\n",
      "     def     def      &A    _REF     The       .    this       I     The    this      is     The     una     had     her      to    ator   black     ito    Lamb       \"     \"\\n      to      to English English       .       .    What       (       .       .       \"       \"    \\xa0    \\xa0       \"       )       \"       \"     Mar   tenía       a      un  little    lamb\n",
      "    0.10    0.10    0.14    0.08    0.04    0.20    0.06    0.11    0.04    0.09    0.07    0.03    0.11    0.07    0.04    0.04    0.09    0.01    0.05    0.03    0.17    0.08    0.13    0.26    0.20    0.18    0.17    0.19    0.04    0.05    0.08    0.11    0.25    0.24    0.05    0.04    0.16    0.14    0.07    0.08    0.06    0.06    0.19    0.03    0.15    0.02\n",
      "       #       #       .  .Forms     How       1      \\n     How       A       \"     and     the     que     \"\\n   libro    been    erve    baby      oy     lam       a       ,       (      in  French  French      \\n      \\n       (    What     :\\n       )    Mary    Mary       2       2     Mar       -    Mary            Mary      's     had  little       l     lit\n",
      "    0.06    0.06    0.13    0.08    0.03    0.06    0.03    0.08    0.02    0.05    0.06    0.02    0.10    0.03    0.04    0.03    0.08    0.01    0.01    0.01    0.04    0.05    0.04    0.07    0.07    0.08    0.09    0.11    0.04    0.04    0.02    0.02    0.03    0.03    0.04    0.03    0.04    0.02    0.06    0.06    0.03    0.02    0.04    0.03    0.02    0.01\n",
      "     The     The    atar     php             ing       \"      Is    What       a      's       A       \"      's     sue      an     inc     big       a       l       ,      .\"       \"       (     the     the     ?\\n     and       I       I       )     :\\n     The     The       3       3      La     .\\n   María    \\xa0   Maria      tu     una       a     cab   small\n",
      "    0.03    0.03    0.06    0.05    0.03    0.02    0.03    0.03    0.01    0.03    0.05    0.01    0.06    0.03    0.03    0.03    0.06    0.01    0.01    0.01    0.04    0.05    0.03    0.03    0.04    0.03    0.03    0.04    0.03    0.03    0.01    0.02    0.03    0.03    0.02    0.02    0.02    0.01    0.04    0.05    0.02    0.02    0.03    0.02    0.02    0.01\n",
      "  import  import       1 Angeles    \\xa0       -       a     Can     the       \"    land       a      la       ,    vest     two     int   great      os   llama      un       \"    What    from  German  German     and     ?\\n       \"       \"      :\"      :\"     Mar      La    Mary    Mary     The      \\n     Mar     Mar       M   tiene    \\xa0     had    lamb  Little\n",
      "    0.02    0.02    0.03    0.02    0.02    0.01    0.03    0.03    0.01    0.02    0.05    0.01    0.04    0.02    0.03    0.03    0.06    0.01    0.00    0.00    0.04    0.03    0.03    0.03    0.02    0.03    0.03    0.03    0.03    0.03    0.01    0.01    0.02    0.02    0.01    0.01    0.02    0.01    0.02    0.03    0.02    0.02    0.01    0.01    0.01    0.01\n",
      "----------------------------------------\n",
      "top 5 predictions:\n",
      "QuestionQuestion       :     ://    What       :     the    What       I     the     had       I      un       \"     per       a     uch  little       o    lamb    lamb       \"    into    into Spanish Spanish     .\\n     .\\n       A       A       :       :    Mary    Mary       1       1    Mary       .    Mary    Mary    Mary     had      un       a       c  little      .\"    lamb\n",
      "    0.31    0.31    0.16    0.43    0.05    0.21    0.23    0.12    0.06    0.22    0.08    0.05    0.12    0.29    0.04    0.32    0.09    0.65    0.86    0.81    0.20    0.42    0.27    0.34    0.28    0.31    0.47    0.40    0.26    0.27    0.77    0.72    0.29    0.30    0.72    0.76    0.37    0.63    0.46    0.39    0.68    0.69    0.63    0.83    0.59    0.79    0.32    0.43\n",
      "     def     def      &A    _REF     The       .    this       I     The    this      is     The     una     had     her      to    ator   black     ito    Lamb       \"     \"\\n      to      to English English       .       .    What       (       .       .       \"       \"    \\xa0    \\xa0       \"       )       \"       \"     Mar   tenía       a      un  little    lamb     ito   sheep\n",
      "    0.10    0.10    0.14    0.08    0.04    0.20    0.06    0.11    0.04    0.09    0.07    0.03    0.11    0.07    0.04    0.04    0.09    0.01    0.05    0.03    0.17    0.08    0.13    0.26    0.20    0.18    0.17    0.19    0.04    0.05    0.08    0.11    0.25    0.24    0.05    0.04    0.16    0.14    0.07    0.08    0.06    0.06    0.19    0.03    0.15    0.02    0.13    0.05\n",
      "       #       #       .  .Forms     How       1      \\n     How       A       \"     and     the     que     \"\\n   libro    been    erve    baby      oy     lam       a       ,       (      in  French  French      \\n      \\n       (    What     :\\n       )    Mary    Mary       2       2     Mar       -    Mary            Mary      's     had  little       l     lit       \"     one\n",
      "    0.06    0.06    0.13    0.08    0.03    0.06    0.03    0.08    0.02    0.05    0.06    0.02    0.10    0.03    0.04    0.03    0.08    0.01    0.01    0.01    0.04    0.05    0.04    0.07    0.07    0.08    0.09    0.11    0.04    0.04    0.02    0.02    0.03    0.03    0.04    0.03    0.04    0.02    0.06    0.06    0.03    0.02    0.04    0.03    0.02    0.01    0.13    0.03\n",
      "     The     The    atar     php             ing       \"      Is    What       a      's       A       \"      's     sue      an     inc     big       a       l       ,      .\"       \"       (     the     the     ?\\n     and       I       I       )     :\\n     The     The       3       3      La     .\\n   María    \\xa0   Maria      tu     una       a     cab   small  little     dog\n",
      "    0.03    0.03    0.06    0.05    0.03    0.02    0.03    0.03    0.01    0.03    0.05    0.01    0.06    0.03    0.03    0.03    0.06    0.01    0.01    0.01    0.04    0.05    0.03    0.03    0.04    0.03    0.03    0.04    0.03    0.03    0.01    0.02    0.03    0.03    0.02    0.02    0.02    0.01    0.04    0.05    0.02    0.02    0.03    0.02    0.02    0.01    0.06    0.03\n",
      "  import  import       1 Angeles    \\xa0       -       a     Can     the       \"    land       a      la       ,    vest     two     int   great      os   llama      un       \"    What    from  German  German     and     ?\\n       \"       \"      :\"      :\"     Mar      La    Mary    Mary     The      \\n     Mar     Mar       M   tiene    \\xa0     had    lamb  Little       .     boy\n",
      "    0.02    0.02    0.03    0.02    0.02    0.01    0.03    0.03    0.01    0.02    0.05    0.01    0.04    0.02    0.03    0.03    0.06    0.01    0.00    0.00    0.04    0.03    0.03    0.03    0.02    0.03    0.03    0.03    0.03    0.03    0.01    0.01    0.02    0.02    0.01    0.01    0.02    0.01    0.02    0.03    0.02    0.02    0.01    0.01    0.01    0.01    0.04    0.03\n",
      "----------------------------------------\n",
      "top 5 predictions:\n",
      "QuestionQuestion       :     ://    What       :     the    What       I     the     had       I      un       \"     per       a     uch  little       o    lamb    lamb       \"    into    into Spanish Spanish     .\\n     .\\n       A       A       :       :    Mary    Mary       1       1    Mary       .    Mary    Mary    Mary     had      un       a       c  little      .\"    lamb      .\"      .\"\n",
      "    0.31    0.31    0.16    0.43    0.05    0.21    0.23    0.12    0.06    0.22    0.08    0.05    0.12    0.29    0.04    0.32    0.09    0.65    0.86    0.81    0.20    0.42    0.27    0.34    0.28    0.31    0.47    0.40    0.26    0.27    0.77    0.72    0.29    0.30    0.72    0.76    0.37    0.63    0.46    0.39    0.68    0.69    0.63    0.83    0.59    0.79    0.32    0.43    0.42    0.47\n",
      "     def     def      &A    _REF     The       .    this       I     The    this      is     The     una     had     her      to    ator   black     ito    Lamb       \"     \"\\n      to      to English English       .       .    What       (       .       .       \"       \"    \\xa0    \\xa0       \"       )       \"       \"     Mar   tenía       a      un  little    lamb     ito   sheep       \"       \"\n",
      "    0.10    0.10    0.14    0.08    0.04    0.20    0.06    0.11    0.04    0.09    0.07    0.03    0.11    0.07    0.04    0.04    0.09    0.01    0.05    0.03    0.17    0.08    0.13    0.26    0.20    0.18    0.17    0.19    0.04    0.05    0.08    0.11    0.25    0.24    0.05    0.04    0.16    0.14    0.07    0.08    0.06    0.06    0.19    0.03    0.15    0.02    0.13    0.05    0.27    0.28\n",
      "       #       #       .  .Forms     How       1      \\n     How       A       \"     and     the     que     \"\\n   libro    been    erve    baby      oy     lam       a       ,       (      in  French  French      \\n      \\n       (    What     :\\n       )    Mary    Mary       2       2     Mar       -    Mary            Mary      's     had  little       l     lit       \"     one       .      \".\n",
      "    0.06    0.06    0.13    0.08    0.03    0.06    0.03    0.08    0.02    0.05    0.06    0.02    0.10    0.03    0.04    0.03    0.08    0.01    0.01    0.01    0.04    0.05    0.04    0.07    0.07    0.08    0.09    0.11    0.04    0.04    0.02    0.02    0.03    0.03    0.04    0.03    0.04    0.02    0.06    0.06    0.03    0.02    0.04    0.03    0.02    0.01    0.13    0.03    0.09    0.06\n",
      "     The     The    atar     php             ing       \"      Is    What       a      's       A       \"      's     sue      an     inc     big       a       l       ,      .\"       \"       (     the     the     ?\\n     and       I       I       )     :\\n     The     The       3       3      La     .\\n   María    \\xa0   Maria      tu     una       a     cab   small  little     dog      \".       .\n",
      "    0.03    0.03    0.06    0.05    0.03    0.02    0.03    0.03    0.01    0.03    0.05    0.01    0.06    0.03    0.03    0.03    0.06    0.01    0.01    0.01    0.04    0.05    0.03    0.03    0.04    0.03    0.03    0.04    0.03    0.03    0.01    0.02    0.03    0.03    0.02    0.02    0.02    0.01    0.04    0.05    0.02    0.02    0.03    0.02    0.02    0.01    0.06    0.03    0.05    0.05\n",
      "  import  import       1 Angeles    \\xa0       -       a     Can     the       \"    land       a      la       ,    vest     two     int   great      os   llama      un       \"    What    from  German  German     and     ?\\n       \"       \"      :\"      :\"     Mar      La    Mary    Mary     The      \\n     Mar     Mar       M   tiene    \\xa0     had    lamb  Little       .     boy    .\"\\n    .\"\\n\n",
      "    0.02    0.02    0.03    0.02    0.02    0.01    0.03    0.03    0.01    0.02    0.05    0.01    0.04    0.02    0.03    0.03    0.06    0.01    0.00    0.00    0.04    0.03    0.03    0.03    0.02    0.03    0.03    0.03    0.03    0.03    0.01    0.01    0.02    0.02    0.01    0.01    0.02    0.01    0.02    0.03    0.02    0.02    0.01    0.01    0.01    0.01    0.04    0.03    0.03    0.03\n",
      "----------------------------------------\n",
      "top 5 predictions:\n",
      "QuestionQuestion       :     ://    What       :     the    What       I     the     had       I      un       \"     per       a     uch  little       o    lamb    lamb       \"    into    into Spanish Spanish     .\\n     .\\n       A       A       :       :    Mary    Mary       1       1    Mary       .    Mary    Mary    Mary     had      un       a       c  little      .\"    lamb      .\"      .\"                \n",
      "    0.31    0.31    0.16    0.43    0.05    0.21    0.23    0.12    0.06    0.22    0.08    0.05    0.12    0.29    0.04    0.32    0.09    0.65    0.86    0.81    0.20    0.42    0.27    0.34    0.28    0.31    0.47    0.40    0.26    0.27    0.77    0.72    0.29    0.30    0.72    0.76    0.37    0.63    0.46    0.39    0.68    0.69    0.63    0.83    0.59    0.79    0.32    0.43    0.42    0.47    0.63    0.58\n",
      "     def     def      &A    _REF     The       .    this       I     The    this      is     The     una     had     her      to    ator   black     ito    Lamb       \"     \"\\n      to      to English English       .       .    What       (       .       .       \"       \"    \\xa0    \\xa0       \"       )       \"       \"     Mar   tenía       a      un  little    lamb     ito   sheep       \"       \"       B       B\n",
      "    0.10    0.10    0.14    0.08    0.04    0.20    0.06    0.11    0.04    0.09    0.07    0.03    0.11    0.07    0.04    0.04    0.09    0.01    0.05    0.03    0.17    0.08    0.13    0.26    0.20    0.18    0.17    0.19    0.04    0.05    0.08    0.11    0.25    0.24    0.05    0.04    0.16    0.14    0.07    0.08    0.06    0.06    0.19    0.03    0.15    0.02    0.13    0.05    0.27    0.28    0.14    0.15\n",
      "       #       #       .  .Forms     How       1      \\n     How       A       \"     and     the     que     \"\\n   libro    been    erve    baby      oy     lam       a       ,       (      in  French  French      \\n      \\n       (    What     :\\n       )    Mary    Mary       2       2     Mar       -    Mary            Mary      's     had  little       l     lit       \"     one       .      \".    \\xa0    \\xa0\n",
      "    0.06    0.06    0.13    0.08    0.03    0.06    0.03    0.08    0.02    0.05    0.06    0.02    0.10    0.03    0.04    0.03    0.08    0.01    0.01    0.01    0.04    0.05    0.04    0.07    0.07    0.08    0.09    0.11    0.04    0.04    0.02    0.02    0.03    0.03    0.04    0.03    0.04    0.02    0.06    0.06    0.03    0.02    0.04    0.03    0.02    0.01    0.13    0.03    0.09    0.06    0.03    0.03\n",
      "     The     The    atar     php             ing       \"      Is    What       a      's       A       \"      's     sue      an     inc     big       a       l       ,      .\"       \"       (     the     the     ?\\n     and       I       I       )     :\\n     The     The       3       3      La     .\\n   María    \\xa0   Maria      tu     una       a     cab   small  little     dog      \".       .       (       (\n",
      "    0.03    0.03    0.06    0.05    0.03    0.02    0.03    0.03    0.01    0.03    0.05    0.01    0.06    0.03    0.03    0.03    0.06    0.01    0.01    0.01    0.04    0.05    0.03    0.03    0.04    0.03    0.03    0.04    0.03    0.03    0.01    0.02    0.03    0.03    0.02    0.02    0.02    0.01    0.04    0.05    0.02    0.02    0.03    0.02    0.02    0.01    0.06    0.03    0.05    0.05    0.02    0.02\n",
      "  import  import       1 Angeles    \\xa0       -       a     Can     the       \"    land       a      la       ,    vest     two     int   great      os   llama      un       \"    What    from  German  German     and     ?\\n       \"       \"      :\"      :\"     Mar      La    Mary    Mary     The      \\n     Mar     Mar       M   tiene    \\xa0     had    lamb  Little       .     boy    .\"\\n    .\"\\n    \\xa0    \\xa0\n",
      "    0.02    0.02    0.03    0.02    0.02    0.01    0.03    0.03    0.01    0.02    0.05    0.01    0.04    0.02    0.03    0.03    0.06    0.01    0.00    0.00    0.04    0.03    0.03    0.03    0.02    0.03    0.03    0.03    0.03    0.03    0.01    0.01    0.02    0.02    0.01    0.01    0.02    0.01    0.02    0.03    0.02    0.02    0.01    0.01    0.01    0.01    0.04    0.03    0.03    0.03    0.02    0.02\n",
      "----------------------------------------\n",
      "top 5 predictions:\n",
      "QuestionQuestion       :     ://    What       :     the    What       I     the     had       I      un       \"     per       a     uch  little       o    lamb    lamb       \"    into    into Spanish Spanish     .\\n     .\\n       A       A       :       :    Mary    Mary       1       1    Mary       .    Mary    Mary    Mary     had      un       a       c  little      .\"    lamb      .\"      .\"                       :       2\n",
      "    0.31    0.31    0.16    0.43    0.05    0.21    0.23    0.12    0.06    0.22    0.08    0.05    0.12    0.29    0.04    0.32    0.09    0.65    0.86    0.81    0.20    0.42    0.27    0.34    0.28    0.31    0.47    0.40    0.26    0.27    0.77    0.72    0.29    0.30    0.72    0.76    0.37    0.63    0.46    0.39    0.68    0.69    0.63    0.83    0.59    0.79    0.32    0.43    0.42    0.47    0.63    0.58    0.76    0.82\n",
      "     def     def      &A    _REF     The       .    this       I     The    this      is     The     una     had     her      to    ator   black     ito    Lamb       \"     \"\\n      to      to English English       .       .    What       (       .       .       \"       \"    \\xa0    \\xa0       \"       )       \"       \"     Mar   tenía       a      un  little    lamb     ito   sheep       \"       \"       B       B       .    \\xa0\n",
      "    0.10    0.10    0.14    0.08    0.04    0.20    0.06    0.11    0.04    0.09    0.07    0.03    0.11    0.07    0.04    0.04    0.09    0.01    0.05    0.03    0.17    0.08    0.13    0.26    0.20    0.18    0.17    0.19    0.04    0.05    0.08    0.11    0.25    0.24    0.05    0.04    0.16    0.14    0.07    0.08    0.06    0.06    0.19    0.03    0.15    0.02    0.13    0.05    0.27    0.28    0.14    0.15    0.11    0.16\n",
      "       #       #       .  .Forms     How       1      \\n     How       A       \"     and     the     que     \"\\n   libro    been    erve    baby      oy     lam       a       ,       (      in  French  French      \\n      \\n       (    What     :\\n       )    Mary    Mary       2       2     Mar       -    Mary            Mary      's     had  little       l     lit       \"     one       .      \".    \\xa0    \\xa0       )       3\n",
      "    0.06    0.06    0.13    0.08    0.03    0.06    0.03    0.08    0.02    0.05    0.06    0.02    0.10    0.03    0.04    0.03    0.08    0.01    0.01    0.01    0.04    0.05    0.04    0.07    0.07    0.08    0.09    0.11    0.04    0.04    0.02    0.02    0.03    0.03    0.04    0.03    0.04    0.02    0.06    0.06    0.03    0.02    0.04    0.03    0.02    0.01    0.13    0.03    0.09    0.06    0.03    0.03    0.10    0.00\n",
      "     The     The    atar     php             ing       \"      Is    What       a      's       A       \"      's     sue      an     inc     big       a       l       ,      .\"       \"       (     the     the     ?\\n     and       I       I       )     :\\n     The     The       3       3      La     .\\n   María    \\xa0   Maria      tu     una       a     cab   small  little     dog      \".       .       (       (       :       1\n",
      "    0.03    0.03    0.06    0.05    0.03    0.02    0.03    0.03    0.01    0.03    0.05    0.01    0.06    0.03    0.03    0.03    0.06    0.01    0.01    0.01    0.04    0.05    0.03    0.03    0.04    0.03    0.03    0.04    0.03    0.03    0.01    0.02    0.03    0.03    0.02    0.02    0.02    0.01    0.04    0.05    0.02    0.02    0.03    0.02    0.02    0.01    0.06    0.03    0.05    0.05    0.02    0.02    0.01    0.00\n",
      "  import  import       1 Angeles    \\xa0       -       a     Can     the       \"    land       a      la       ,    vest     two     int   great      os   llama      un       \"    What    from  German  German     and     ?\\n       \"       \"      :\"      :\"     Mar      La    Mary    Mary     The      \\n     Mar     Mar       M   tiene    \\xa0     had    lamb  Little       .     boy    .\"\\n    .\"\\n    \\xa0    \\xa0      :\"   \\xa0B\n",
      "    0.02    0.02    0.03    0.02    0.02    0.01    0.03    0.03    0.01    0.02    0.05    0.01    0.04    0.02    0.03    0.03    0.06    0.01    0.00    0.00    0.04    0.03    0.03    0.03    0.02    0.03    0.03    0.03    0.03    0.03    0.01    0.01    0.02    0.02    0.01    0.01    0.02    0.01    0.02    0.03    0.02    0.02    0.01    0.01    0.01    0.01    0.04    0.03    0.03    0.03    0.02    0.02    0.00    0.00\n"
     ]
    }
   ],
   "source": [
    "import pandas as pd\n",
    "import numpy as np\n",
    "from matplotlib import pyplot as plt\n",
    "from collections import defaultdict\n",
    "from tqdm.notebook import tqdm\n",
    "\n",
    "result_1 = []\n",
    "result_2 = []\n",
    "max_tokens = 10\n",
    "\n",
    "with torch.no_grad():\n",
    "    test_str_1 = tokenizer('Q: Translate \"Mary had a little lamb\" into Spanish. A: ', return_tensors='pt').input_ids[0]\n",
    "    test_str_2 = tokenizer('Q: Translate \"Mary tenía un corderito.\" into English. A: ', return_tensors='pt').input_ids[0]\n",
    "    seq_len = max(test_str_1.shape[0], test_str_2.shape[0])\n",
    "    test_str_1 = torch.cat([torch.tensor([tokenizer.bos_token_id] * (seq_len - test_str_1.shape[0]), dtype=torch.long), test_str_1])\n",
    "    test_str_2 = torch.cat([torch.tensor([tokenizer.bos_token_id] * (seq_len - test_str_2.shape[0]), dtype=torch.long), test_str_2])\n",
    "\n",
    "    for tok_i in tqdm(range(max_tokens)):\n",
    "        if len(result_1) > 0: test_str_1 = torch.cat([test_str_1, torch.tensor([result_1[-1]], dtype=torch.long)])\n",
    "        if len(result_2) > 0: test_str_2 = torch.cat([test_str_2, torch.tensor([result_2[-1]], dtype=torch.long)])\n",
    "\n",
    "        # Interleave the two sequences\n",
    "        input_ids = torch.stack([test_str_2, test_str_1, ], dim=1).reshape(-1).unsqueeze(0)\n",
    "        position_ids = torch.repeat_interleave(torch.arange(seq_len + tok_i), 2).unsqueeze(0)\n",
    "\n",
    "        # Run the model while with repeated position IDs\n",
    "        logits = model.forward(input_ids, position_ids=position_ids.to(device)).logits\n",
    "\n",
    "        # print(logits.shape)\n",
    "        # print(decode(logits[0].argmax(-1).cpu().tolist()))\n",
    "        val, idx = logits[0].detach().float().softmax(-1).topk(5)\n",
    "        # print(val.shape)\n",
    "        print('-' * 40)\n",
    "        print('top 5 predictions:')\n",
    "        for j in range(5):\n",
    "            print(('{:>8}' * idx.shape[0]).format(*[repr(tokenizer.decode([i]))[1:-1] for i in idx[:, j].numpy()]))\n",
    "            print(('{:8.2f}' * val.shape[0]).format(*[i for i in val[:, j].numpy()]))\n",
    "\n",
    "        result_1 += [idx[-1, 0]]\n",
    "        result_2 += [idx[-1, 1]]\n"
   ]
  },
  {
   "cell_type": "code",
   "execution_count": 4,
   "metadata": {},
   "outputs": [
    {
     "name": "stdout",
     "output_type": "stream",
     "text": [
      "The 人 vast 类 and 历 intricate 史 tapestry 那 of 庞 human 大 history 而 is 复 a 杂 testament 的 to 挂 the 毯 enduring 是 spirit 对 of 我 exploration, 们 innovation, 物 and 种 resilience 探 that 索 characterizes 、 our 创 species. 新 From 和 the 韧 earliest 性 days 精 of 神 hunter-gatherer 的 societies, 持 where 久 survival 见 hinged 证 on 。 an 从 intimate 最 understanding 早 of 的 nature 狩 and 猎 the 采 ability 集 to 社 adapt 会 to ， ever-changing 那 environments, 时 to 的 the 生 dawn 存 of 依 agriculture, 赖 which 于 marked 对 a 自 seismic 然 shift 的 in 深 human 刻 civilization 理 by 解 allowing 和 for 适 the 应 establishment 不 of 断 permanent 变 settlements 化 and 的 the 环 development 境 of 能 complex 力 social ， structures, 到 our 农 journey 业 has 的 been 兴 one 起 of ， continuous 这 transformation. 标 The 志 advent 着 of 人 written 类 language 文 enabled 明 the 的 preservation 巨 and 大 dissemination 转 of 变 knowledge ， across 因 generations, 为 fostering 它 the 允 growth 许 of 建 cultures 立 and 永 the 久 proliferation 定 of 居 ideas. 点 This 和 intellectual 发 ferment 展 gave 复 rise 杂 to 的 the 社 great 会 civilizations 结 of 构 antiquity, ， such 我 as 们 those 的 of 旅 Mesopotamia, 程 Egypt, 一 the 直 Indus 是 Valley, 连 and 续 China, 的 each 转 contributing 变 monumental 。 advancements 文 in 字 fields 的 as 出 diverse 现 as 使 mathematics, 知 astronomy, 识 architecture, 能 and 够 governance. 跨 As 越 trade 世 networks 代 expanded, 保 these 存 civilizations 和 began 传 to 播 interact ， and 促 influence 进 one 了 another, 文 laying 化 the 的 groundwork 成 for 长 a 和 more 思 interconnected 想 world. 的 The 繁 classical 荣 period 。 saw 这 the 种 rise 智 and 力 fall 发 of 酵 empires 催 like 生 Greece 了 and 古 Rome, 代 whose 伟 philosophical, 大 political, 的 and 文 artistic 明 legacies ， continue 如 to 美 shape 索 contemporary 不 thought. 达 The 米 Middle 亚 Ages, 、 often 埃 characterized 及 as 、 a 印 time 度 of 河 stagnation, 流 were 域 in 和 fact 中 a 国 period ， of 每 significant 个 technological 文 and 明 cultural 在 progress, 数 particularly 学 in 、 the 天 Islamic 文 world, 学 where 、 scholars 建 made 筑 remarkable 和 strides 治 in 理 science, 等 medicine, 多 and 种 philosophy. 领 The 域 Renaissance, 都 fueled 做 by 出 the 了 rediscovery 巨 of 大 classical 的 knowledge 贡 and 献 the 。 advent 随 of 着 the 贸 printing 易 press, 网 ignited 络 a 的 period 扩 of 展 unprecedented ， creativity 这 and 些 intellectual 文 inquiry 明 in 开 Europe, 始 setting 相 the 互 stage 互 for 动 the 和 Scientific 影 Revolution 响 and ， the 为 Enlightenment. 一 These 个 movements 更 fundamentally 加 altered 相 our 互 understanding 联 of 系 the 的 universe 世 and 界 our 奠 place 定 within 了 it, 基 challenging 础 long-held 。 beliefs 古 and 典 sparking 时 revolutions 期 in 见 industry, 证 politics, 了 and 希 society. 腊 The 和 modern 罗 era, 马 marked 等 by 帝 rapid 国 advancements 的 in 兴 technology 衰 and ， an 它 ever-accelerating 们 pace 的 of 哲 change, 学 has 、 brought 政 both 治 tremendous 和 opportunities 艺 and 术 profound 遗 challenges. 产 As 至 we 今 navigate 仍 the 在 complexities 塑 of 造 globalization, 当 climate 代 change, 思 and 想 the 。 digital 中 revolution, 世 the 纪 lessons ， of 尽 our 管 shared 常 past 被 offer 描 invaluable 述 insights. 为 They 停 remind 滞 us 的 of 时 our 代 capacity ， for 实 ingenuity 际 and 上 adaptation, 是 as 一 well 个 as 技 the 术 importance 和 of 文 empathy, 化 cooperation, 显 and 著 a 进 commitment 步 to 的 the 时 common 期 good ， in 特 shaping 别 a 是 future 在 that 伊 is 斯 both 兰 equitable 世 and 界 sustainable ， for 学 all. 者 们 在 科 学 、 医 学 和 哲 学 领 域 取 得 了 显 著 的 成 就 。 文 艺 复 兴 时 期 ， 由 于 重 新 发 现 古 典 知 识 和 印 刷 术 的 发 明 ， 点 燃 了 欧 洲 前 所 未 有 的 创 造 力 和 智 力 探 究 时 期 ， 为 科 学 革 命 和 启 蒙 运 动 铺 平 了 道 路 。 这 些 运 动 从 根 本 上 改 变 了 我 们 对 宇 宙 及 其 自 身 位 置 的 理 解 ， 挑 战 了 长 期 持 有 的 信 仰 ， 并 引 发 了 工 业 、 政 治 和 社 会 的 革 命 。 现 代 时 期 ， 以 技 术 的 快 速 进 步 和 不 断 加 快 的 变 化 速 度 为 标 志 ， 带 来 了 巨 大 的 机 遇 和 深 刻 的 挑 战 。 在 我 们 应 对 全 球 化 、 气 候 变 化 和 数 字 革 命 的 复 杂 性 时 ， 我 们 共 享 的 过 去 的 教 训 提 供 了 宝 贵 的 见 解 。 它 们 提 醒 我 们 具 备 创 新 和 适 应 能 力 的 重 要 性 ， 以 及 塑 造 一 个 公 平 和 可 持 续 未 来 时 同 情 心 、 合 作 和 共 同 利 益 承 诺 的 重 要 性 。 \n"
     ]
    }
   ],
   "source": [
    "import numpy.random as npr\n",
    "import numpy as np\n",
    "\n",
    "p1 = 'The vast and intricate tapestry of human history is a testament to the enduring spirit of exploration, innovation, and resilience that characterizes our species. From the earliest days of hunter-gatherer societies, where survival hinged on an intimate understanding of nature and the ability to adapt to ever-changing environments, to the dawn of agriculture, which marked a seismic shift in human civilization by allowing for the establishment of permanent settlements and the development of complex social structures, our journey has been one of continuous transformation. The advent of written language enabled the preservation and dissemination of knowledge across generations, fostering the growth of cultures and the proliferation of ideas. This intellectual ferment gave rise to the great civilizations of antiquity, such as those of Mesopotamia, Egypt, the Indus Valley, and China, each contributing monumental advancements in fields as diverse as mathematics, astronomy, architecture, and governance. As trade networks expanded, these civilizations began to interact and influence one another, laying the groundwork for a more interconnected world. The classical period saw the rise and fall of empires like Greece and Rome, whose philosophical, political, and artistic legacies continue to shape contemporary thought. The Middle Ages, often characterized as a time of stagnation, were in fact a period of significant technological and cultural progress, particularly in the Islamic world, where scholars made remarkable strides in science, medicine, and philosophy. The Renaissance, fueled by the rediscovery of classical knowledge and the advent of the printing press, ignited a period of unprecedented creativity and intellectual inquiry in Europe, setting the stage for the Scientific Revolution and the Enlightenment. These movements fundamentally altered our understanding of the universe and our place within it, challenging long-held beliefs and sparking revolutions in industry, politics, and society. The modern era, marked by rapid advancements in technology and an ever-accelerating pace of change, has brought both tremendous opportunities and profound challenges. As we navigate the complexities of globalization, climate change, and the digital revolution, the lessons of our shared past offer invaluable insights. They remind us of our capacity for ingenuity and adaptation, as well as the importance of empathy, cooperation, and a commitment to the common good in shaping a future that is both equitable and sustainable for all.'\n",
    "# p2 = 'En el corazón de la bulliciosa ciudad, una pequeña librería se erigía como un santuario para aquellos que buscaban consuelo entre las páginas de innumerables historias. Situada entre una cafetería y una panadería, ofrecía un refugio tranquilo del ruido y la prisa del exterior. El aroma del papel envejecido y el café recién hecho creaba una atmósfera acogedora, atrayendo a lectores de todas las edades. Cada rincón de la tienda estaba lleno de estantes que llegaban hasta el techo, conteniendo libros de todos los géneros imaginables. Era un lugar donde el tiempo parecía ralentizarse, permitiendo a los visitantes perderse en los mundos creados por autores de todo el mundo.'\n",
    "p2 = '人类历史那庞大而复杂的挂毯是对我们物种探索、创新和韧性精神的持久见证。从最早的狩猎采集社会，那时的生存依赖于对自然的深刻理解和适应不断变化的环境能力，到农业的兴起，这标志着人类文明的巨大转变，因为它允许建立永久定居点和发展复杂的社会结构，我们的旅程一直是连续的转变。文字的出现使知识能够跨越世代保存和传播，促进了文化的成长和思想的繁荣。这种智力发酵催生了古代伟大的文明，如美索不达米亚、埃及、印度河流域和中国，每个文明在数学、天文学、建筑和治理等多种领域都做出了巨大的贡献。随着贸易网络的扩展，这些文明开始相互互动和影响，为一个更加相互联系的世界奠定了基础。古典时期见证了希腊和罗马等帝国的兴衰，它们的哲学、政治和艺术遗产至今仍在塑造当代思想。中世纪，尽管常被描述为停滞的时代，实际上是一个技术和文化显著进步的时期，特别是在伊斯兰世界，学者们在科学、医学和哲学领域取得了显著的成就。文艺复兴时期，由于重新发现古典知识和印刷术的发明，点燃了欧洲前所未有的创造力和智力探究时期，为科学革命和启蒙运动铺平了道路。这些运动从根本上改变了我们对宇宙及其自身位置的理解，挑战了长期持有的信仰，并引发了工业、政治和社会的革命。现代时期，以技术的快速进步和不断加快的变化速度为标志，带来了巨大的机遇和深刻的挑战。在我们应对全球化、气候变化和数字革命的复杂性时，我们共享的过去的教训提供了宝贵的见解。它们提醒我们具备创新和适应能力的重要性，以及塑造一个公平和可持续未来时同情心、合作和共同利益承诺的重要性。'\n",
    "\n",
    "# p1 = 'In the heart of the bustling city, a small bookstore '\n",
    "# p2 = 'En el corazón de la bulliciosa ciudad'\n",
    "\n",
    "p1 = p1.split()\n",
    "# p2 = p2.split()\n",
    "p2 = list(p2)\n",
    "\n",
    "# p1_loc = npr.choice(np.arange(len(p1) + len(p2)), len(p1), replace=False)\n",
    "p1_loc = np.arange(0, min(len(p1) + len(p2), 2 * len(p1)), 2)\n",
    "\n",
    "mix = np.zeros(len(p1) + len(p2), dtype=int)\n",
    "mix[p1_loc] = 1\n",
    "\n",
    "mix_p = ''\n",
    "p1_i = 0\n",
    "p2_i = 0\n",
    "for j, pi in enumerate(mix):\n",
    "    if pi == 1:\n",
    "        mix_p += p1[p1_i] + ' '\n",
    "        p1_i += 1\n",
    "    else:\n",
    "        mix_p += p2[p2_i] + ' '\n",
    "        p2_i += 1\n",
    "    # if j % 10 == 0 and j > 0:\n",
    "    #     mix_p += '\\n'\n",
    "\n",
    "print(mix_p)\n"
   ]
  }
 ],
 "metadata": {
  "kernelspec": {
   "display_name": "base",
   "language": "python",
   "name": "python3"
  },
  "language_info": {
   "codemirror_mode": {
    "name": "ipython",
    "version": 3
   },
   "file_extension": ".py",
   "mimetype": "text/x-python",
   "name": "python",
   "nbconvert_exporter": "python",
   "pygments_lexer": "ipython3",
   "version": "3.11.7"
  }
 },
 "nbformat": 4,
 "nbformat_minor": 2
}
